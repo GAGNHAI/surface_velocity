{
 "cells": [
  {
   "cell_type": "code",
   "execution_count": null,
   "metadata": {},
   "outputs": [],
   "source": [
    "import numpy as np\n",
    "import matplotlib.pyplot as plt\n",
    "from matplotlib import animation\n",
    "%matplotlib notebook\n",
    "\n",
    "xmax = 50.\n",
    "xs = np.linspace(0,xmax,1000)\n",
    "λ1 = xmax\n",
    "λ2 = 10\n",
    "ϕ = 1.\n",
    "ϕs = np.linspace(-5,5,20)\n",
    "y1 = np.sin(2.*np.pi*xs/λ1)+np.sin(2.*np.pi*xs/λ2)\n",
    "y2 = np.sin(2.*np.pi*(xs-ϕ)/λ1)+np.sin(2.*np.pi*(xs-ϕ)/λ2)\n",
    "co = np.corrcoef(y1,y2)[1,0]\n",
    "\n",
    "fig = plt.figure()\n",
    "ax1 = plt.subplot(111)\n",
    "plt.plot(xs,y1)\n",
    "ax1.set_ylabel('Surface Slope')\n",
    "ax1.set_xlabel('Distance')\n",
    "\n",
    "l1, = ax1.plot(xs,y2)\n",
    "t1 = ax1.text(.7,.9,'CorrCoef: %.3f'%co,transform=ax1.transAxes)\n",
    "\n",
    "# Stack traces together and create an animation\n",
    "def animate(i):\n",
    "    ϕ = ϕs[i]\n",
    "    y2 = np.sin(2.*np.pi*(xs-ϕ)/λ1)+np.sin(2.*np.pi*(xs-ϕ)/λ2)\n",
    "    l1.set_ydata(y2)\n",
    "    co = np.corrcoef(y1,y2)[1,0]\n",
    "    t1.set_text('CorrCoef: %.3f'%co)\n",
    "    \n",
    "# ----------------------------------------------------------------------------\n",
    "\n",
    "plt.tight_layout()\n",
    "\n",
    "# Save the animation\n",
    "anim = animation.FuncAnimation(fig, animate, frames=len(ϕs), repeat=True, blit=True)\n",
    "anim.save('Corr_Coeff.gif',fps=5,writer='imagemagick',dpi=100)\n",
    "#\"\"\";"
   ]
  }
 ],
 "metadata": {
  "kernelspec": {
   "display_name": "Python 3",
   "language": "python",
   "name": "python3"
  },
  "language_info": {
   "codemirror_mode": {
    "name": "ipython",
    "version": 3
   },
   "file_extension": ".py",
   "mimetype": "text/x-python",
   "name": "python",
   "nbconvert_exporter": "python",
   "pygments_lexer": "ipython3",
   "version": "3.7.3"
  }
 },
 "nbformat": 4,
 "nbformat_minor": 2
}
