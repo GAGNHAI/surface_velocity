{
 "cells": [
  {
   "cell_type": "markdown",
   "metadata": {},
   "source": [
    "# Velocity Data Download Script for Validation\n",
    "#### Working Script to pull large velocity datasets and later compare to ICESAT2-derived velocities\n",
    "\n",
    "ICESat-2 hackweek  \n",
    "June 15, 2020  \n",
    "Lynn Kaluzienski"
   ]
  },
  {
   "cell_type": "markdown",
   "metadata": {},
   "source": [
    "# Import necessary modules"
   ]
  },
  {
   "cell_type": "code",
   "execution_count": 55,
   "metadata": {},
   "outputs": [],
   "source": [
    "import os\n",
    "import requests\n",
    "import zipfile"
   ]
  },
  {
   "cell_type": "code",
   "execution_count": 56,
   "metadata": {},
   "outputs": [
    {
     "name": "stdout",
     "output_type": "stream",
     "text": [
      "The autoreload extension is already loaded. To reload it, use:\n",
      "  %reload_ext autoreload\n"
     ]
    }
   ],
   "source": [
    "import numpy as np\n",
    "import pandas as pd\n",
    "import geopandas as gpd\n",
    "import pyproj\n",
    "import scipy, sys, os, pyproj, glob\n",
    "import matplotlib.pyplot as plt\n",
    "from shapely.geometry import Point, Polygon\n",
    "# run matplotlib in 'widget' mode\n",
    "%matplotlib widget\n",
    "%load_ext autoreload\n",
    "%autoreload 2"
   ]
  },
  {
   "cell_type": "code",
   "execution_count": 57,
   "metadata": {},
   "outputs": [
    {
     "name": "stdout",
     "output_type": "stream",
     "text": [
      "Collecting git+https://github.com/tsutterley/pointCollection.git@pip\n",
      "  Cloning https://github.com/tsutterley/pointCollection.git (to revision pip) to /tmp/pip-req-build-uz4b1u0m\n",
      "  Running command git clone -q https://github.com/tsutterley/pointCollection.git /tmp/pip-req-build-uz4b1u0m\n",
      "  Running command git checkout -b pip --track origin/pip\n",
      "  Switched to a new branch 'pip'\n",
      "  Branch 'pip' set up to track remote branch 'pip' from 'origin'.\n",
      "Requirement already satisfied (use --upgrade to upgrade): pointCollection==1.0.0.0 from git+https://github.com/tsutterley/pointCollection.git@pip in /home/jovyan/.local/lib/python3.7/site-packages\n",
      "Requirement already satisfied: numpy in /srv/conda/envs/notebook/lib/python3.7/site-packages (from pointCollection==1.0.0.0) (1.18.4)\n",
      "Requirement already satisfied: scipy in /srv/conda/envs/notebook/lib/python3.7/site-packages (from pointCollection==1.0.0.0) (1.4.1)\n",
      "Requirement already satisfied: pyproj in /srv/conda/envs/notebook/lib/python3.7/site-packages (from pointCollection==1.0.0.0) (2.6.1.post1)\n",
      "Requirement already satisfied: h5py in /srv/conda/envs/notebook/lib/python3.7/site-packages (from pointCollection==1.0.0.0) (2.10.0)\n",
      "Requirement already satisfied: netCDF4 in /srv/conda/envs/notebook/lib/python3.7/site-packages (from pointCollection==1.0.0.0) (1.5.3)\n",
      "Requirement already satisfied: matplotlib in /srv/conda/envs/notebook/lib/python3.7/site-packages (from pointCollection==1.0.0.0) (3.2.1)\n",
      "Requirement already satisfied: gdal in /srv/conda/envs/notebook/lib/python3.7/site-packages (from pointCollection==1.0.0.0) (3.0.4)\n",
      "Requirement already satisfied: six in /srv/conda/envs/notebook/lib/python3.7/site-packages (from h5py->pointCollection==1.0.0.0) (1.15.0)\n",
      "Requirement already satisfied: cftime in /srv/conda/envs/notebook/lib/python3.7/site-packages (from netCDF4->pointCollection==1.0.0.0) (1.1.3)\n",
      "Requirement already satisfied: python-dateutil>=2.1 in /srv/conda/envs/notebook/lib/python3.7/site-packages (from matplotlib->pointCollection==1.0.0.0) (2.7.5)\n",
      "Requirement already satisfied: cycler>=0.10 in /srv/conda/envs/notebook/lib/python3.7/site-packages (from matplotlib->pointCollection==1.0.0.0) (0.10.0)\n",
      "Requirement already satisfied: pyparsing!=2.0.4,!=2.1.2,!=2.1.6,>=2.0.1 in /srv/conda/envs/notebook/lib/python3.7/site-packages (from matplotlib->pointCollection==1.0.0.0) (2.4.7)\n",
      "Requirement already satisfied: kiwisolver>=1.0.1 in /srv/conda/envs/notebook/lib/python3.7/site-packages (from matplotlib->pointCollection==1.0.0.0) (1.2.0)\n",
      "Building wheels for collected packages: pointCollection\n",
      "  Building wheel for pointCollection (setup.py) ... \u001b[?25ldone\n",
      "\u001b[?25h  Created wheel for pointCollection: filename=pointCollection-1.0.0.0-py3-none-any.whl size=82220 sha256=116804956c819e0d40adbb8a6f78e37547b5581510d719f25157c8e2874a0636\n",
      "  Stored in directory: /tmp/pip-ephem-wheel-cache-g_srn87_/wheels/29/6e/f2/1435b756513140ff2fc1dc41847ebca181fd3285efc91b3d86\n",
      "Successfully built pointCollection\n"
     ]
    }
   ],
   "source": [
    "#! cd ..; [ -d pointCollection ] || git clone https://www.github.com/smithB/pointCollection.git\n",
    "#sys.path.append(os.path.join(os.getcwd(), '..'))\n",
    "\n",
    "!python3 -m pip install --user git+https://github.com/tsutterley/pointCollection.git@pip\n",
    "import pointCollection as pc\n",
    "#stuck here, not sure how to import point collection \n"
   ]
  },
  {
   "cell_type": "code",
   "execution_count": 58,
   "metadata": {},
   "outputs": [],
   "source": [
    "#Magic function to enable interactive plotting (zoom/pan) in Jupyter notebook\n",
    "#If running locally, this would be `%matplotlib notebook`, but since we're using Juptyerlab, we use widget\n",
    "%matplotlib widget\n",
    "#%matplotlib inline"
   ]
  },
  {
   "cell_type": "code",
   "execution_count": 61,
   "metadata": {},
   "outputs": [
    {
     "data": {
      "text/plain": [
       "\"\\n#load in data from .mat file\\n#Data originally in netcdf format, created subset in matlab for FIS region and saved as .mat file. \\nimport scipy.io as spio\\ndata_root='/srv/surface_velocity/contributors/lynn_kaluzienski/Data_test'\\n#('Measures2.mat',squeeze_me=True)\\nMeasures2_Files= spio.loadmat('./Data_test/Measures2.mat')\\nx=Measures2_Files['posx']\\ny=Measures2_Files['posy']\\nvx=Measures2_Files['vx_FIS']\\nvy=Measures2_Files['vy_FIS']\\nvel=Measures2_Files['vel_FIS']\\n\\n#xy=np.array(pyproj.Proj(3031)(x, y))\\nplt.figure()\\nax.imshow(vel, extent=[0, 1, 0, 1])\\n\""
      ]
     },
     "execution_count": 61,
     "metadata": {},
     "output_type": "execute_result"
    }
   ],
   "source": [
    "'''\n",
    "##Section where I played around with loading in .mat file, quickly abandoned\n",
    "#load in data from .mat file\n",
    "#Data originally in netcdf format, created subset in matlab for FIS region and saved as .mat file. \n",
    "import scipy.io as spio\n",
    "data_root='/srv/surface_velocity/contributors/lynn_kaluzienski/Data_test'\n",
    "#('Measures2.mat',squeeze_me=True)\n",
    "Measures2_Files= spio.loadmat('./Data_test/Measures2.mat')\n",
    "x=Measures2_Files['posx']\n",
    "y=Measures2_Files['posy']\n",
    "vx=Measures2_Files['vx_FIS']\n",
    "vy=Measures2_Files['vy_FIS']\n",
    "vel=Measures2_Files['vel_FIS']\n",
    "\n",
    "#xy=np.array(pyproj.Proj(3031)(x, y))\n",
    "plt.figure()\n",
    "ax.imshow(vel, extent=[0, 1, 0, 1])\n",
    "'''"
   ]
  },
  {
   "cell_type": "code",
   "execution_count": 62,
   "metadata": {},
   "outputs": [
    {
     "name": "stdout",
     "output_type": "stream",
     "text": [
      "[-86 -81 -81 -86 -86]\n",
      "[-55 -55 -65 -65 -55]\n"
     ]
    },
    {
     "ename": "AttributeError",
     "evalue": "'NoneType' object has no attribute 'GetGeoTransform'",
     "output_type": "error",
     "traceback": [
      "\u001b[0;31m---------------------------------------------------------------------------\u001b[0m",
      "\u001b[0;31mAttributeError\u001b[0m                            Traceback (most recent call last)",
      "\u001b[0;32m<ipython-input-62-63c41a34f8d1>\u001b[0m in \u001b[0;36m<module>\u001b[0;34m\u001b[0m\n\u001b[1;32m     13\u001b[0m \u001b[0mYR\u001b[0m\u001b[0;34m=\u001b[0m\u001b[0;34m[\u001b[0m\u001b[0mnp\u001b[0m\u001b[0;34m.\u001b[0m\u001b[0mnanmin\u001b[0m\u001b[0;34m(\u001b[0m\u001b[0mxy\u001b[0m\u001b[0;34m[\u001b[0m\u001b[0;36m1\u001b[0m\u001b[0;34m,\u001b[0m\u001b[0;34m:\u001b[0m\u001b[0;34m]\u001b[0m\u001b[0;34m)\u001b[0m\u001b[0;34m,\u001b[0m \u001b[0mnp\u001b[0m\u001b[0;34m.\u001b[0m\u001b[0mnanmax\u001b[0m\u001b[0;34m(\u001b[0m\u001b[0mxy\u001b[0m\u001b[0;34m[\u001b[0m\u001b[0;36m1\u001b[0m\u001b[0;34m,\u001b[0m\u001b[0;34m:\u001b[0m\u001b[0;34m]\u001b[0m\u001b[0;34m)\u001b[0m\u001b[0;34m]\u001b[0m\u001b[0;34m\u001b[0m\u001b[0;34m\u001b[0m\u001b[0m\n\u001b[1;32m     14\u001b[0m \u001b[0;31m#Originally tried to load data from a local directory, should change to shared directory\u001b[0m\u001b[0;34m\u001b[0m\u001b[0;34m\u001b[0m\u001b[0;34m\u001b[0m\u001b[0m\n\u001b[0;32m---> 15\u001b[0;31m \u001b[0mMeasures_vel\u001b[0m\u001b[0;34m=\u001b[0m\u001b[0mpc\u001b[0m\u001b[0;34m.\u001b[0m\u001b[0mgrid\u001b[0m\u001b[0;34m.\u001b[0m\u001b[0mdata\u001b[0m\u001b[0;34m(\u001b[0m\u001b[0;34m)\u001b[0m\u001b[0;34m.\u001b[0m\u001b[0mfrom_geotif\u001b[0m\u001b[0;34m(\u001b[0m\u001b[0mos\u001b[0m\u001b[0;34m.\u001b[0m\u001b[0mpath\u001b[0m\u001b[0;34m.\u001b[0m\u001b[0mjoin\u001b[0m\u001b[0;34m(\u001b[0m\u001b[0mdata_root\u001b[0m\u001b[0;34m,\u001b[0m\u001b[0;34m'Data_test'\u001b[0m\u001b[0;34m,\u001b[0m\u001b[0;34m'Measures2_FIS.tif'\u001b[0m\u001b[0;34m)\u001b[0m\u001b[0;34m,\u001b[0m \u001b[0mbounds\u001b[0m\u001b[0;34m=\u001b[0m\u001b[0;34m[\u001b[0m\u001b[0mXR\u001b[0m\u001b[0;34m,\u001b[0m \u001b[0mYR\u001b[0m\u001b[0;34m]\u001b[0m\u001b[0;34m)\u001b[0m\u001b[0;34m\u001b[0m\u001b[0;34m\u001b[0m\u001b[0m\n\u001b[0m\u001b[1;32m     16\u001b[0m \u001b[0;34m\u001b[0m\u001b[0m\n\u001b[1;32m     17\u001b[0m \u001b[0;34m\u001b[0m\u001b[0m\n",
      "\u001b[0;32m~/surface_velocity/contributors/lynn_kaluzienski/../pointCollection/grid/data.py\u001b[0m in \u001b[0;36mfrom_geotif\u001b[0;34m(self, file, field, bands, bounds, extent, skip, min_res, date_format)\u001b[0m\n\u001b[1;32m     96\u001b[0m \u001b[0;34m\u001b[0m\u001b[0m\n\u001b[1;32m     97\u001b[0m         \u001b[0mds\u001b[0m\u001b[0;34m=\u001b[0m\u001b[0mgdal\u001b[0m\u001b[0;34m.\u001b[0m\u001b[0mOpen\u001b[0m\u001b[0;34m(\u001b[0m\u001b[0mfile\u001b[0m\u001b[0;34m,\u001b[0m \u001b[0mgdalconst\u001b[0m\u001b[0;34m.\u001b[0m\u001b[0mGA_ReadOnly\u001b[0m\u001b[0;34m)\u001b[0m\u001b[0;34m\u001b[0m\u001b[0;34m\u001b[0m\u001b[0m\n\u001b[0;32m---> 98\u001b[0;31m         \u001b[0mGT\u001b[0m\u001b[0;34m=\u001b[0m\u001b[0mds\u001b[0m\u001b[0;34m.\u001b[0m\u001b[0mGetGeoTransform\u001b[0m\u001b[0;34m(\u001b[0m\u001b[0;34m)\u001b[0m\u001b[0;34m\u001b[0m\u001b[0;34m\u001b[0m\u001b[0m\n\u001b[0m\u001b[1;32m     99\u001b[0m \u001b[0;34m\u001b[0m\u001b[0m\n\u001b[1;32m    100\u001b[0m         \u001b[0;32mif\u001b[0m \u001b[0mmin_res\u001b[0m \u001b[0;32mis\u001b[0m \u001b[0;32mnot\u001b[0m \u001b[0;32mNone\u001b[0m\u001b[0;34m:\u001b[0m\u001b[0;34m\u001b[0m\u001b[0;34m\u001b[0m\u001b[0m\n",
      "\u001b[0;31mAttributeError\u001b[0m: 'NoneType' object has no attribute 'GetGeoTransform'"
     ]
    }
   ],
   "source": [
    "#From Ben Smith's code loading in .tif file, running into issues likely with directories\n",
    "data_root='/surface_velocity/contributors/lynn_kaluzienski'\n",
    "#spatial_extent = np.array([-102, -76, -98, -74.5])\n",
    "spatial_extent = np.array([-65, -86, -55, -81])\n",
    "lat=spatial_extent[[1, 3, 3, 1, 1]]\n",
    "lon=spatial_extent[[2, 2, 0, 0, 2]]\n",
    "print(lat)\n",
    "print(lon)\n",
    "# project the coordinates to Antarctic polar stereographic\n",
    "xy=np.array(pyproj.Proj(3031)(lon, lat))\n",
    "# get the bounds of the projected coordinates \n",
    "XR=[np.nanmin(xy[0,:]), np.nanmax(xy[0,:])]\n",
    "YR=[np.nanmin(xy[1,:]), np.nanmax(xy[1,:])]\n",
    "#Originally tried to load data from a local directory, should change to shared directory\n",
    "Measures_vel=pc.grid.data().from_geotif(os.path.join(data_root,'Data_test','Measures2_FIS.tif'), bounds=[XR, YR])\n",
    "\n",
    "\n",
    "\n",
    "# show the velocity map:\n",
    "plt.figure()\n",
    "Measures_vel.show(cmap='gray', clim=[14000, 17000])\n",
    "plt.plot(xy[0,:], xy[1,:])\n",
    "plt.title('Measures2 Velocity Map')\n"
   ]
  },
  {
   "cell_type": "code",
   "execution_count": 49,
   "metadata": {},
   "outputs": [
    {
     "ename": "NameError",
     "evalue": "name 'wd' is not defined",
     "output_type": "error",
     "traceback": [
      "\u001b[0;31m---------------------------------------------------------------------------\u001b[0m",
      "\u001b[0;31mNameError\u001b[0m                                 Traceback (most recent call last)",
      "\u001b[0;32m<ipython-input-49-935180c9a98c>\u001b[0m in \u001b[0;36m<module>\u001b[0;34m\u001b[0m\n\u001b[1;32m      3\u001b[0m \u001b[0;32mimport\u001b[0m \u001b[0mhvplot\u001b[0m\u001b[0;34m.\u001b[0m\u001b[0mxarray\u001b[0m\u001b[0;34m\u001b[0m\u001b[0;34m\u001b[0m\u001b[0m\n\u001b[1;32m      4\u001b[0m \u001b[0;32mimport\u001b[0m \u001b[0mxarray\u001b[0m \u001b[0;32mas\u001b[0m \u001b[0mxr\u001b[0m\u001b[0;34m\u001b[0m\u001b[0;34m\u001b[0m\u001b[0m\n\u001b[0;32m----> 5\u001b[0;31m \u001b[0mMeasures2_file\u001b[0m \u001b[0;34m=\u001b[0m \u001b[0mos\u001b[0m\u001b[0;34m.\u001b[0m\u001b[0mpath\u001b[0m\u001b[0;34m.\u001b[0m\u001b[0mjoin\u001b[0m\u001b[0;34m(\u001b[0m\u001b[0mwd\u001b[0m\u001b[0;34m,\u001b[0m\u001b[0;34m'/home/jovyan/surface_velocity/contributors/lynn_kaluzienski/Data_test/Measures2_FIS.tif'\u001b[0m\u001b[0;34m)\u001b[0m\u001b[0;34m\u001b[0m\u001b[0;34m\u001b[0m\u001b[0m\n\u001b[0m\u001b[1;32m      6\u001b[0m \u001b[0;34m\u001b[0m\u001b[0m\n\u001b[1;32m      7\u001b[0m \u001b[0msrc\u001b[0m \u001b[0;34m=\u001b[0m \u001b[0mrasterio\u001b[0m\u001b[0;34m.\u001b[0m\u001b[0mopen\u001b[0m\u001b[0;34m(\u001b[0m\u001b[0mMeasures2_file\u001b[0m\u001b[0;34m)\u001b[0m\u001b[0;34m\u001b[0m\u001b[0;34m\u001b[0m\u001b[0m\n",
      "\u001b[0;31mNameError\u001b[0m: name 'wd' is not defined"
     ]
    }
   ],
   "source": [
    "#Section where I started trying rasterio\n",
    "import rasterio\n",
    "import hvplot\n",
    "import hvplot.xarray\n",
    "import xarray as xr\n",
    "Measures2_file = os.path.join(wd,'/home/jovyan/surface_velocity/contributors/lynn_kaluzienski/Data_test/Measures2_FIS.tif')\n",
    "\n",
    "src = rasterio.open(Measures2_file)\n",
    "\n",
    "da = xr.open_rasterio(src)\n",
    "subplot_width  = int(src.shape[1] /9)\n",
    "subplot_height = int(src.shape[0] /10)\n",
    "da.sel(band=1).hvplot.image(rasterize=True,width=subplot_width,\n",
    "                            height=subplot_height,\n",
    "                            cmap='gray')\n"
   ]
  },
  {
   "cell_type": "code",
   "execution_count": null,
   "metadata": {},
   "outputs": [],
   "source": [
    "\n"
   ]
  }
 ],
 "metadata": {
  "kernelspec": {
   "display_name": "Python 3",
   "language": "python",
   "name": "python3"
  },
  "language_info": {
   "codemirror_mode": {
    "name": "ipython",
    "version": 3
   },
   "file_extension": ".py",
   "mimetype": "text/x-python",
   "name": "python",
   "nbconvert_exporter": "python",
   "pygments_lexer": "ipython3",
   "version": "3.7.6"
  }
 },
 "nbformat": 4,
 "nbformat_minor": 4
}
