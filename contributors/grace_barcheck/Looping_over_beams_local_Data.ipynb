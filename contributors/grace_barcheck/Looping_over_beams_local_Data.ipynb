{
 "cells": [
  {
   "cell_type": "code",
   "execution_count": null,
   "metadata": {},
   "outputs": [],
   "source": []
  },
  {
   "cell_type": "markdown",
   "metadata": {},
   "source": [
    "1. Query icepyx; see what tracks are available in area of interest\n",
    "\n",
    "2. Save track numbers, beams, and repeat numbers into a dictionary\n",
    "\n",
    "3. For each track/beam combination, loop over all possible repeat pairs\n",
    "\n",
    "    A. Load all beams and all repeats for that track using icepyx (?). For all beams / repeats:\n",
    "    \n",
    "        - Do whatever we are doing with ATL03\n",
    "    \n",
    "        - Fill in nan gaps with noise\n",
    "        \n",
    "    B. For each repeat pair:\n",
    "        \n",
    "        - Loop across the along track coordinates: \n",
    "        \n",
    "            Choices: window size, search width, running average window size, step, where to save data geographically\n",
    "            \n",
    "            Output: Best lag, corresponding correlation coefficient, equivalent along-track velocity\n",
    "            \n",
    "        - Save results in a text file with date collected, dx from ATL03 processing, lat, lon, veloc, correlation coefficient, best lag, # contributing nans"
   ]
  },
  {
   "cell_type": "code",
   "execution_count": 1,
   "metadata": {},
   "outputs": [],
   "source": [
    "from icepyx import icesat2data as ipd\n",
    "import os, glob, re, h5py, sys, pyproj\n",
    "import matplotlib as plt\n",
    "import shutil\n",
    "import numpy as np\n",
    "from pprint import pprint\n",
    "from astropy.time import Time\n",
    "from scipy.signal import correlate, detrend\n",
    "import pandas as pd\n",
    "import matplotlib.pyplot as plt\n",
    "%matplotlib widget"
   ]
  },
  {
   "cell_type": "code",
   "execution_count": 2,
   "metadata": {},
   "outputs": [],
   "source": [
    "datapath = '/home/jovyan/shared/surface_velocity/FIS_ATL06'\n",
    "ATL06_files=glob.glob(os.path.join(datapath, '*.h5'))\n",
    "\n",
    "\n"
   ]
  },
  {
   "cell_type": "code",
   "execution_count": 3,
   "metadata": {},
   "outputs": [
    {
     "name": "stdout",
     "output_type": "stream",
     "text": [
      "dict_keys(['0080', '1131', '0232', '1031', '0634', '0507', '0131', '0192', '0354', '1061', '0492', '0690', '0970', '0187', '0558', '1335', '0741', '0659', '0894', '1183', '0680', '1101', '1168', '0034', '0568', '0705', '0293', '0711', '1040', '0070', '0543', '1244', '1192', '0314', '0126', '1193', '1147', '0253', '0451', '1122', '0994', '0391', '0141', '0979', '0476', '1223', '1137', '0726', '0918', '1314', '1253', '1177', '0750', '0330', '1010', '0193', '0781', '0872', '1299', '0629', '1055', '0695', '0309', '0467', '0802', '0644', '0461', '0415', '0635', '0924', '0482', '1214', '1076', '0573', '0339', '0833', '0171', '0446', '0385', '1336', '0796', '0369', '0756', '1238', '0674', '0903', '0955', '0650', '0772', '0832', '0766', '0513', '0308', '0857', '0720', '1162', '0848', '0202', '0019', '0071', '1138', '1259', '0522', '0390', '1254', '0360', '0933', '1025', '0512', '1000', '1153', '0842', '0400', '1351', '0751', '0628', '0537', '0583', '0878', '1320', '0491', '0552', '0421', '1315', '1015', '0954', '0040', '1275', '0132', '0812', '0598', '0985', '1016', '1330', '0324', '0589', '1132', '0909', '0049', '0370', '0263', '0735', '0613', '0095', '0431', '0345', '1071', '0689', '1274', '1376', '1345', '0811', '0004', '0888', '0452', '0065', '0964', '0217', '1208', '0893', '0147', '1360', '0939', '1092', '1229', '0110', '1375', '0406', '0817', '0436', '0863', '0787', '0934', '0574', '0949', '0873', '1070', '0497', '0009', '1366', '0528', '1198', '0025', '0619', '0247', '0010', '1107', '1046', '0162', '1305', '1116', '0604', '0827', '0665', '0430', '0116', '0771', '0208', '0086', '0375', '0186', '0248', '0299', '1381', '0284', '0269', '1086', '1290', '0223', '1284', '0177', '0101', '1077', '0156', '0278', '1269', '0238', '0055'])\n",
      "['04', '02', '03', '01']\n"
     ]
    }
   ],
   "source": [
    "rgts = {}\n",
    "for filepath in ATL06_files:\n",
    "    filename = filepath.split('/')[-1]\n",
    "    rgt = filename.split('_')[3][0:4]\n",
    "    track = filename.split('_')[3][4:6]\n",
    "#     print(rgt,track)\n",
    "    if not rgt in rgts.keys():\n",
    "        rgts[rgt] = []\n",
    "        rgts[rgt].append(track)\n",
    "    else:\n",
    "        rgts[rgt].append(track)\n",
    "\n",
    "\n",
    "# all rgt values in our study are are in rgts.keys()\n",
    "print(rgts.keys())\n",
    "\n",
    "# available tracks for each rgt are in rgts[rgt]; ex.:\n",
    "print(rgts['0848'])\n",
    "\n",
    "# let's work 0848, our first good track friend"
   ]
  },
  {
   "cell_type": "code",
   "execution_count": 4,
   "metadata": {},
   "outputs": [],
   "source": [
    "def atl06_to_dict(filename, beam, field_dict=None, index=None, epsg=None):\n",
    "    \"\"\"\n",
    "        Read selected datasets from an ATL06 file\n",
    "\n",
    "        Input arguments:\n",
    "            filename: ATl06 file to read\n",
    "            beam: a string specifying which beam is to be read (ex: gt1l, gt1r, gt2l, etc)\n",
    "            field_dict: A dictinary describing the fields to be read\n",
    "                    keys give the group names to be read, \n",
    "                    entries are lists of datasets within the groups\n",
    "            index: which entries in each field to read\n",
    "            epsg: an EPSG code specifying a projection (see www.epsg.org).  Good choices are:\n",
    "                for Greenland, 3413 (polar stereographic projection, with Greenland along the Y axis)\n",
    "                for Antarctica, 3031 (polar stereographic projection, centered on the Pouth Pole)\n",
    "        Output argument:\n",
    "            D6: dictionary containing ATL06 data.  Each dataset in \n",
    "                dataset_dict has its own entry in D6.  Each dataset \n",
    "                in D6 contains a numpy array containing the \n",
    "                data\n",
    "    \"\"\"\n",
    "    if field_dict is None:\n",
    "        field_dict={None:['latitude','longitude','h_li', 'atl06_quality_summary'],\\\n",
    "                    'ground_track':['x_atc','y_atc'],\\\n",
    "                    'fit_statistics':['dh_fit_dx', 'dh_fit_dy']}\n",
    "    D={}\n",
    "    # below: file_re = regular expression, it will pull apart the regular expression to get the information from the filename\n",
    "    file_re=re.compile('ATL06_(?P<date>\\d+)_(?P<rgt>\\d\\d\\d\\d)(?P<cycle>\\d\\d)(?P<region>\\d\\d)_(?P<release>\\d\\d\\d)_(?P<version>\\d\\d).h5')\n",
    "    with h5py.File(filename,'r') as h5f:\n",
    "        for key in field_dict:\n",
    "            for ds in field_dict[key]:\n",
    "                if key is not None:\n",
    "                    ds_name=beam+'/land_ice_segments/'+key+'/'+ds\n",
    "                else:\n",
    "                    ds_name=beam+'/land_ice_segments/'+ds\n",
    "                if index is not None:\n",
    "                    D[ds]=np.array(h5f[ds_name][index])\n",
    "                else:\n",
    "                    D[ds]=np.array(h5f[ds_name])\n",
    "                if '_FillValue' in h5f[ds_name].attrs:\n",
    "                    bad_vals=D[ds]==h5f[ds_name].attrs['_FillValue']\n",
    "                    D[ds]=D[ds].astype(float)\n",
    "                    D[ds][bad_vals]=np.NaN\n",
    "        D['data_start_utc'] = h5f['/ancillary_data/data_start_utc'][:]\n",
    "        D['delta_time'] = h5f['/' + beam + '/land_ice_segments/delta_time'][:]\n",
    "        D['segment_id'] = h5f['/' + beam + '/land_ice_segments/segment_id'][:]\n",
    "    if epsg is not None:\n",
    "        xy=np.array(pyproj.proj.Proj(epsg)(D['longitude'], D['latitude']))\n",
    "        D['x']=xy[0,:].reshape(D['latitude'].shape)\n",
    "        D['y']=xy[1,:].reshape(D['latitude'].shape)\n",
    "    temp=file_re.search(filename)\n",
    "    D['rgt']=int(temp['rgt'])\n",
    "    D['cycle']=int(temp['cycle'])\n",
    "    D['beam']=beam\n",
    "    return D\n",
    "\n",
    "# A revised code to plot the elevations of segment midpoints (h_li):\n",
    "def plot_elevation(D6, ind=None, **kwargs):\n",
    "    \"\"\"\n",
    "    Plot midpoint elevation for each ATL06 segment\n",
    "    \"\"\"\n",
    "    if ind is None:\n",
    "        ind=np.ones_like(D6['h_li'], dtype=bool)\n",
    "    # pull out heights of segment midpoints\n",
    "    h_li = D6['h_li'][ind]\n",
    "    # pull out along track x coordinates of segment midpoints\n",
    "    x_atc = D6['x_atc'][ind]\n",
    "\n",
    "    plt.plot(x_atc, h_li, **kwargs)"
   ]
  },
  {
   "cell_type": "markdown",
   "metadata": {},
   "source": [
    "# Loop over rgts and do the correlation processing\n",
    "\n",
    "TOMORROW: START WITH NEXT CELL IN OLD CODE, IMPLEMENT MAKING THE X1 VEC AND LOOPING"
   ]
  },
  {
   "cell_type": "code",
   "execution_count": 143,
   "metadata": {
    "collapsed": true,
    "jupyter": {
     "outputs_hidden": true
    }
   },
   "outputs": [
    {
     "name": "stdout",
     "output_type": "stream",
     "text": [
      "\n",
      "Processing rgt 0080, #0 of 218\n",
      "There are 1 files available for this track from cycle 3 onward\n",
      "\n",
      "Processing rgt 1131, #1 of 218\n",
      "There are 1 files available for this track from cycle 3 onward\n",
      "\n",
      "Processing rgt 0232, #2 of 218\n",
      "There are 1 files available for this track from cycle 3 onward\n",
      "\n",
      "Processing rgt 1031, #3 of 218\n",
      "There are 1 files available for this track from cycle 3 onward\n",
      "\n",
      "Processing rgt 0634, #4 of 218\n",
      "There are 2 files available for this track from cycle 3 onward\n",
      "\n",
      "Processing rgt 0507, #5 of 218\n",
      "There are 2 files available for this track from cycle 3 onward\n",
      "\n",
      "Processing rgt 0131, #6 of 218\n",
      "There are 1 files available for this track from cycle 3 onward\n",
      "\n",
      "Processing rgt 0192, #7 of 218\n",
      "There are 1 files available for this track from cycle 3 onward\n",
      "\n",
      "Processing rgt 0354, #8 of 218\n",
      "There are 1 files available for this track from cycle 3 onward\n",
      "\n",
      "Processing rgt 1061, #9 of 218\n",
      "There are 1 files available for this track from cycle 3 onward\n",
      "\n",
      "Processing rgt 0492, #10 of 218\n",
      "There are 2 files available for this track from cycle 3 onward\n",
      "file /home/jovyan/shared/surface_velocity/FIS_ATL06/processed_ATL06_20190430122344_04920311_003_01.h5 encountered error 'Unable to open object (component not found)'\n",
      "file /home/jovyan/shared/surface_velocity/FIS_ATL06/processed_ATL06_20190730080323_04920411_003_01.h5 encountered error 'Unable to open object (component not found)'\n",
      "\n",
      "Processing rgt 0690, #11 of 218\n",
      "There are 2 files available for this track from cycle 3 onward\n",
      "file /home/jovyan/shared/surface_velocity/FIS_ATL06/processed_ATL06_20190812071246_06900411_003_01.h5 encountered error 'Unable to open object (component not found)'\n",
      "\n",
      "Processing rgt 0970, #12 of 218\n",
      "There are 1 files available for this track from cycle 3 onward\n",
      "\n",
      "Processing rgt 0187, #13 of 218\n",
      "There are 1 files available for this track from cycle 3 onward\n",
      "\n",
      "Processing rgt 0558, #14 of 218\n",
      "There are 2 files available for this track from cycle 3 onward\n",
      "\n",
      "Processing rgt 1335, #15 of 218\n",
      "There are 1 files available for this track from cycle 3 onward\n",
      "\n",
      "Processing rgt 0741, #16 of 218\n",
      "There are 2 files available for this track from cycle 3 onward\n",
      "\n",
      "Processing rgt 0659, #17 of 218\n",
      "There are 2 files available for this track from cycle 3 onward\n",
      "\n",
      "Processing rgt 0894, #18 of 218\n",
      "There are 2 files available for this track from cycle 3 onward\n",
      "\n",
      "Processing rgt 1183, #19 of 218\n",
      "There are 1 files available for this track from cycle 3 onward\n",
      "\n",
      "Processing rgt 0680, #20 of 218\n",
      "There are 2 files available for this track from cycle 3 onward\n",
      "\n",
      "Processing rgt 1101, #21 of 218\n",
      "There are 1 files available for this track from cycle 3 onward\n",
      "\n",
      "Processing rgt 1168, #22 of 218\n",
      "There are 1 files available for this track from cycle 3 onward\n",
      "\n",
      "Processing rgt 0034, #23 of 218\n",
      "There are 0 files available for this track from cycle 3 onward\n",
      "\n",
      "Processing rgt 0568, #24 of 218\n",
      "There are 2 files available for this track from cycle 3 onward\n",
      "\n",
      "Processing rgt 0705, #25 of 218\n",
      "There are 2 files available for this track from cycle 3 onward\n",
      "\n",
      "Processing rgt 0293, #26 of 218\n",
      "There are 1 files available for this track from cycle 3 onward\n",
      "\n",
      "Processing rgt 0711, #27 of 218\n",
      "There are 2 files available for this track from cycle 3 onward\n",
      "\n",
      "Processing rgt 1040, #28 of 218\n",
      "There are 1 files available for this track from cycle 3 onward\n",
      "\n",
      "Processing rgt 0070, #29 of 218\n",
      "There are 1 files available for this track from cycle 3 onward\n",
      "\n",
      "Processing rgt 0543, #30 of 218\n",
      "There are 1 files available for this track from cycle 3 onward\n",
      "\n",
      "Processing rgt 1244, #31 of 218\n",
      "There are 1 files available for this track from cycle 3 onward\n",
      "\n",
      "Processing rgt 1192, #32 of 218\n",
      "There are 1 files available for this track from cycle 3 onward\n",
      "\n",
      "Processing rgt 0314, #33 of 218\n",
      "There are 1 files available for this track from cycle 3 onward\n",
      "\n",
      "Processing rgt 0126, #34 of 218\n",
      "There are 1 files available for this track from cycle 3 onward\n",
      "\n",
      "Processing rgt 1193, #35 of 218\n",
      "There are 1 files available for this track from cycle 3 onward\n",
      "\n",
      "Processing rgt 1147, #36 of 218\n",
      "There are 1 files available for this track from cycle 3 onward\n",
      "\n",
      "Processing rgt 0253, #37 of 218\n",
      "There are 1 files available for this track from cycle 3 onward\n",
      "\n",
      "Processing rgt 0451, #38 of 218\n",
      "There are 2 files available for this track from cycle 3 onward\n",
      "\n",
      "Processing rgt 1122, #39 of 218\n",
      "There are 1 files available for this track from cycle 3 onward\n",
      "\n",
      "Processing rgt 0994, #40 of 218\n",
      "There are 1 files available for this track from cycle 3 onward\n",
      "\n",
      "Processing rgt 0391, #41 of 218\n",
      "There are 1 files available for this track from cycle 3 onward\n",
      "\n",
      "Processing rgt 0141, #42 of 218\n",
      "There are 1 files available for this track from cycle 3 onward\n",
      "\n",
      "Processing rgt 0979, #43 of 218\n",
      "There are 1 files available for this track from cycle 3 onward\n",
      "\n",
      "Processing rgt 0476, #44 of 218\n",
      "There are 2 files available for this track from cycle 3 onward\n",
      "\n",
      "Processing rgt 1223, #45 of 218\n",
      "There are 1 files available for this track from cycle 3 onward\n",
      "\n",
      "Processing rgt 1137, #46 of 218\n",
      "There are 1 files available for this track from cycle 3 onward\n",
      "\n",
      "Processing rgt 0726, #47 of 218\n",
      "There are 2 files available for this track from cycle 3 onward\n"
     ]
    },
    {
     "name": "stderr",
     "output_type": "stream",
     "text": [
      "/srv/conda/envs/notebook/lib/python3.7/site-packages/ipykernel_launcher.py:223: RuntimeWarning: divide by zero encountered in long_scalars\n"
     ]
    },
    {
     "name": "stdout",
     "output_type": "stream",
     "text": [
      "\n",
      "Processing rgt 0918, #48 of 218\n",
      "There are 1 files available for this track from cycle 3 onward\n",
      "\n",
      "Processing rgt 1314, #49 of 218\n",
      "There are 1 files available for this track from cycle 3 onward\n",
      "\n",
      "Processing rgt 1253, #50 of 218\n",
      "There are 1 files available for this track from cycle 3 onward\n",
      "\n",
      "Processing rgt 1177, #51 of 218\n",
      "There are 1 files available for this track from cycle 3 onward\n",
      "\n",
      "Processing rgt 0750, #52 of 218\n",
      "There are 2 files available for this track from cycle 3 onward\n"
     ]
    },
    {
     "name": "stderr",
     "output_type": "stream",
     "text": [
      "/srv/conda/envs/notebook/lib/python3.7/site-packages/ipykernel_launcher.py:223: RuntimeWarning: invalid value encountered in long_scalars\n"
     ]
    },
    {
     "name": "stdout",
     "output_type": "stream",
     "text": [
      "\n",
      "Processing rgt 0330, #53 of 218\n",
      "There are 1 files available for this track from cycle 3 onward\n",
      "\n",
      "Processing rgt 1010, #54 of 218\n",
      "There are 1 files available for this track from cycle 3 onward\n",
      "\n",
      "Processing rgt 0193, #55 of 218\n",
      "There are 1 files available for this track from cycle 3 onward\n",
      "\n",
      "Processing rgt 0781, #56 of 218\n",
      "There are 2 files available for this track from cycle 3 onward\n",
      "rgt 0781 encountered an error\n",
      "\n",
      "Processing rgt 0872, #57 of 218\n",
      "There are 2 files available for this track from cycle 3 onward\n",
      "\n",
      "Processing rgt 1299, #58 of 218\n",
      "There are 1 files available for this track from cycle 3 onward\n",
      "\n",
      "Processing rgt 0629, #59 of 218\n",
      "There are 2 files available for this track from cycle 3 onward\n",
      "\n",
      "Processing rgt 1055, #60 of 218\n",
      "There are 1 files available for this track from cycle 3 onward\n",
      "\n",
      "Processing rgt 0695, #61 of 218\n",
      "There are 2 files available for this track from cycle 3 onward\n",
      "\n",
      "Processing rgt 0309, #62 of 218\n",
      "There are 1 files available for this track from cycle 3 onward\n",
      "\n",
      "Processing rgt 0467, #63 of 218\n",
      "There are 2 files available for this track from cycle 3 onward\n",
      "rgt 0467 encountered an error\n",
      "\n",
      "Processing rgt 0802, #64 of 218\n",
      "There are 2 files available for this track from cycle 3 onward\n",
      "\n",
      "Processing rgt 0644, #65 of 218\n",
      "There are 2 files available for this track from cycle 3 onward\n",
      "\n",
      "Processing rgt 0461, #66 of 218\n",
      "There are 2 files available for this track from cycle 3 onward\n",
      "\n",
      "Processing rgt 0415, #67 of 218\n",
      "There are 1 files available for this track from cycle 3 onward\n",
      "\n",
      "Processing rgt 0635, #68 of 218\n",
      "There are 2 files available for this track from cycle 3 onward\n"
     ]
    },
    {
     "name": "stderr",
     "output_type": "stream",
     "text": [
      "/srv/conda/envs/notebook/lib/python3.7/site-packages/ipykernel_launcher.py:223: RuntimeWarning: invalid value encountered in long_scalars\n"
     ]
    },
    {
     "name": "stdout",
     "output_type": "stream",
     "text": [
      "rgt 0635 encountered an error\n",
      "\n",
      "Processing rgt 0924, #69 of 218\n",
      "There are 1 files available for this track from cycle 3 onward\n",
      "\n",
      "Processing rgt 0482, #70 of 218\n",
      "There are 2 files available for this track from cycle 3 onward\n",
      "rgt 0482 encountered an error\n",
      "\n",
      "Processing rgt 1214, #71 of 218\n",
      "There are 1 files available for this track from cycle 3 onward\n",
      "\n",
      "Processing rgt 1076, #72 of 218\n",
      "There are 1 files available for this track from cycle 3 onward\n",
      "\n",
      "Processing rgt 0573, #73 of 218\n",
      "There are 2 files available for this track from cycle 3 onward\n",
      "\n",
      "Processing rgt 0339, #74 of 218\n",
      "There are 1 files available for this track from cycle 3 onward\n",
      "\n",
      "Processing rgt 0833, #75 of 218\n",
      "There are 2 files available for this track from cycle 3 onward\n",
      "\n",
      "Processing rgt 0171, #76 of 218\n",
      "There are 1 files available for this track from cycle 3 onward\n",
      "\n",
      "Processing rgt 0446, #77 of 218\n",
      "There are 2 files available for this track from cycle 3 onward\n",
      "\n",
      "Processing rgt 0385, #78 of 218\n",
      "There are 1 files available for this track from cycle 3 onward\n",
      "\n",
      "Processing rgt 1336, #79 of 218\n",
      "There are 1 files available for this track from cycle 3 onward\n",
      "\n",
      "Processing rgt 0796, #80 of 218\n",
      "There are 2 files available for this track from cycle 3 onward\n",
      "\n",
      "Processing rgt 0369, #81 of 218\n",
      "There are 1 files available for this track from cycle 3 onward\n",
      "\n",
      "Processing rgt 0756, #82 of 218\n",
      "There are 2 files available for this track from cycle 3 onward\n",
      "\n",
      "Processing rgt 1238, #83 of 218\n",
      "There are 1 files available for this track from cycle 3 onward\n",
      "\n",
      "Processing rgt 0674, #84 of 218\n",
      "There are 2 files available for this track from cycle 3 onward\n",
      "\n",
      "Processing rgt 0903, #85 of 218\n",
      "There are 1 files available for this track from cycle 3 onward\n",
      "\n",
      "Processing rgt 0955, #86 of 218\n",
      "There are 1 files available for this track from cycle 3 onward\n",
      "\n",
      "Processing rgt 0650, #87 of 218\n",
      "There are 2 files available for this track from cycle 3 onward\n",
      "\n",
      "Processing rgt 0772, #88 of 218\n",
      "There are 2 files available for this track from cycle 3 onward\n"
     ]
    },
    {
     "name": "stderr",
     "output_type": "stream",
     "text": [
      "/srv/conda/envs/notebook/lib/python3.7/site-packages/ipykernel_launcher.py:223: RuntimeWarning: invalid value encountered in long_scalars\n"
     ]
    },
    {
     "name": "stdout",
     "output_type": "stream",
     "text": [
      "\n",
      "Processing rgt 0832, #89 of 218\n",
      "There are 2 files available for this track from cycle 3 onward\n",
      "file /home/jovyan/shared/surface_velocity/FIS_ATL06/processed_ATL06_20190522184208_08320311_003_01.h5 encountered error 'Unable to open object (component not found)'\n",
      "file /home/jovyan/shared/surface_velocity/FIS_ATL06/processed_ATL06_20190821142156_08320411_003_01.h5 encountered error 'Unable to open object (component not found)'\n",
      "\n",
      "Processing rgt 0766, #90 of 218\n",
      "There are 2 files available for this track from cycle 3 onward\n",
      "\n",
      "Processing rgt 0513, #91 of 218\n",
      "There are 2 files available for this track from cycle 3 onward\n",
      "\n",
      "Processing rgt 0308, #92 of 218\n",
      "There are 1 files available for this track from cycle 3 onward\n",
      "\n",
      "Processing rgt 0857, #93 of 218\n",
      "There are 1 files available for this track from cycle 3 onward\n",
      "\n",
      "Processing rgt 0720, #94 of 218\n",
      "There are 2 files available for this track from cycle 3 onward\n",
      "\n",
      "Processing rgt 1162, #95 of 218\n",
      "There are 1 files available for this track from cycle 3 onward\n",
      "\n",
      "Processing rgt 0848, #96 of 218\n",
      "There are 2 files available for this track from cycle 3 onward\n",
      "\n",
      "Processing rgt 0202, #97 of 218\n",
      "There are 1 files available for this track from cycle 3 onward\n",
      "\n",
      "Processing rgt 0019, #98 of 218\n",
      "There are 1 files available for this track from cycle 3 onward\n",
      "\n",
      "Processing rgt 0071, #99 of 218\n",
      "There are 1 files available for this track from cycle 3 onward\n",
      "\n",
      "Processing rgt 1138, #100 of 218\n",
      "There are 1 files available for this track from cycle 3 onward\n",
      "\n",
      "Processing rgt 1259, #101 of 218\n",
      "There are 1 files available for this track from cycle 3 onward\n",
      "\n",
      "Processing rgt 0522, #102 of 218\n",
      "There are 2 files available for this track from cycle 3 onward\n",
      "\n",
      "Processing rgt 0390, #103 of 218\n",
      "There are 1 files available for this track from cycle 3 onward\n",
      "\n",
      "Processing rgt 1254, #104 of 218\n",
      "There are 1 files available for this track from cycle 3 onward\n",
      "\n",
      "Processing rgt 0360, #105 of 218\n",
      "There are 1 files available for this track from cycle 3 onward\n",
      "\n",
      "Processing rgt 0933, #106 of 218\n",
      "There are 1 files available for this track from cycle 3 onward\n",
      "\n",
      "Processing rgt 1025, #107 of 218\n",
      "There are 1 files available for this track from cycle 3 onward\n",
      "\n",
      "Processing rgt 0512, #108 of 218\n",
      "There are 2 files available for this track from cycle 3 onward\n",
      "\n",
      "Processing rgt 1000, #109 of 218\n",
      "There are 1 files available for this track from cycle 3 onward\n",
      "\n",
      "Processing rgt 1153, #110 of 218\n",
      "There are 1 files available for this track from cycle 3 onward\n",
      "\n",
      "Processing rgt 0842, #111 of 218\n",
      "There are 2 files available for this track from cycle 3 onward\n",
      "file /home/jovyan/shared/surface_velocity/FIS_ATL06/processed_ATL06_20190822060451_08420411_003_01.h5 encountered error 'Unable to open object (component not found)'\n",
      "\n",
      "Processing rgt 0400, #112 of 218\n",
      "There are 1 files available for this track from cycle 3 onward\n",
      "\n",
      "Processing rgt 1351, #113 of 218\n",
      "There are 1 files available for this track from cycle 3 onward\n",
      "\n",
      "Processing rgt 0751, #114 of 218\n",
      "There are 2 files available for this track from cycle 3 onward\n",
      "\n",
      "Processing rgt 0628, #115 of 218\n",
      "There are 2 files available for this track from cycle 3 onward\n",
      "file /home/jovyan/shared/surface_velocity/FIS_ATL06/processed_ATL06_20190509100707_06280311_003_01.h5 encountered error 'Unable to open object (component not found)'\n",
      "file /home/jovyan/shared/surface_velocity/FIS_ATL06/processed_ATL06_20190808054648_06280411_003_01.h5 encountered error 'Unable to open object (component not found)'\n",
      "\n",
      "Processing rgt 0537, #116 of 218\n",
      "There are 2 files available for this track from cycle 3 onward\n",
      "\n",
      "Processing rgt 0583, #117 of 218\n",
      "There are 2 files available for this track from cycle 3 onward\n",
      "file /home/jovyan/shared/surface_velocity/FIS_ATL06/processed_ATL06_20190506112405_05830311_003_01.h5 encountered error 'Unable to open object (component not found)'\n",
      "\n",
      "Processing rgt 0878, #118 of 218\n",
      "There are 2 files available for this track from cycle 3 onward\n",
      "file /home/jovyan/shared/surface_velocity/FIS_ATL06/processed_ATL06_20190824143917_08780411_003_01.h5 encountered error 'Unable to open object (component not found)'\n",
      "\n",
      "Processing rgt 1320, #119 of 218\n",
      "There are 1 files available for this track from cycle 3 onward\n",
      "\n",
      "Processing rgt 0491, #120 of 218\n",
      "There are 2 files available for this track from cycle 3 onward\n"
     ]
    },
    {
     "name": "stderr",
     "output_type": "stream",
     "text": [
      "/srv/conda/envs/notebook/lib/python3.7/site-packages/ipykernel_launcher.py:223: RuntimeWarning: divide by zero encountered in long_scalars\n"
     ]
    },
    {
     "name": "stdout",
     "output_type": "stream",
     "text": [
      "\n",
      "Processing rgt 0552, #121 of 218\n",
      "There are 2 files available for this track from cycle 3 onward\n"
     ]
    },
    {
     "name": "stderr",
     "output_type": "stream",
     "text": [
      "/srv/conda/envs/notebook/lib/python3.7/site-packages/ipykernel_launcher.py:223: RuntimeWarning: divide by zero encountered in long_scalars\n"
     ]
    },
    {
     "name": "stdout",
     "output_type": "stream",
     "text": [
      "\n",
      "Processing rgt 0421, #122 of 218\n",
      "There are 1 files available for this track from cycle 3 onward\n",
      "\n",
      "Processing rgt 1315, #123 of 218\n",
      "There are 1 files available for this track from cycle 3 onward\n",
      "\n",
      "Processing rgt 1015, #124 of 218\n",
      "There are 1 files available for this track from cycle 3 onward\n",
      "\n",
      "Processing rgt 0954, #125 of 218\n",
      "There are 1 files available for this track from cycle 3 onward\n",
      "\n",
      "Processing rgt 0040, #126 of 218\n",
      "There are 1 files available for this track from cycle 3 onward\n",
      "\n",
      "Processing rgt 1275, #127 of 218\n",
      "There are 1 files available for this track from cycle 3 onward\n",
      "\n",
      "Processing rgt 0132, #128 of 218\n",
      "There are 1 files available for this track from cycle 3 onward\n",
      "\n",
      "Processing rgt 0812, #129 of 218\n",
      "There are 1 files available for this track from cycle 3 onward\n",
      "\n",
      "Processing rgt 0598, #130 of 218\n",
      "There are 2 files available for this track from cycle 3 onward\n"
     ]
    },
    {
     "name": "stderr",
     "output_type": "stream",
     "text": [
      "/srv/conda/envs/notebook/lib/python3.7/site-packages/ipykernel_launcher.py:223: RuntimeWarning: divide by zero encountered in long_scalars\n"
     ]
    },
    {
     "name": "stdout",
     "output_type": "stream",
     "text": [
      "\n",
      "Processing rgt 0985, #131 of 218\n",
      "There are 1 files available for this track from cycle 3 onward\n",
      "\n",
      "Processing rgt 1016, #132 of 218\n",
      "There are 1 files available for this track from cycle 3 onward\n",
      "\n",
      "Processing rgt 1330, #133 of 218\n",
      "There are 1 files available for this track from cycle 3 onward\n",
      "\n",
      "Processing rgt 0324, #134 of 218\n",
      "There are 1 files available for this track from cycle 3 onward\n",
      "\n",
      "Processing rgt 0589, #135 of 218\n",
      "There are 2 files available for this track from cycle 3 onward\n"
     ]
    },
    {
     "name": "stderr",
     "output_type": "stream",
     "text": [
      "/srv/conda/envs/notebook/lib/python3.7/site-packages/ipykernel_launcher.py:223: RuntimeWarning: divide by zero encountered in long_scalars\n"
     ]
    },
    {
     "name": "stdout",
     "output_type": "stream",
     "text": [
      "rgt 0589 encountered an error\n",
      "\n",
      "Processing rgt 1132, #136 of 218\n",
      "There are 1 files available for this track from cycle 3 onward\n",
      "\n",
      "Processing rgt 0909, #137 of 218\n",
      "There are 1 files available for this track from cycle 3 onward\n",
      "\n",
      "Processing rgt 0049, #138 of 218\n",
      "There are 1 files available for this track from cycle 3 onward\n",
      "\n",
      "Processing rgt 0370, #139 of 218\n",
      "There are 1 files available for this track from cycle 3 onward\n",
      "\n",
      "Processing rgt 0263, #140 of 218\n",
      "There are 1 files available for this track from cycle 3 onward\n",
      "\n",
      "Processing rgt 0735, #141 of 218\n",
      "There are 2 files available for this track from cycle 3 onward\n"
     ]
    },
    {
     "name": "stderr",
     "output_type": "stream",
     "text": [
      "/srv/conda/envs/notebook/lib/python3.7/site-packages/ipykernel_launcher.py:223: RuntimeWarning: divide by zero encountered in long_scalars\n"
     ]
    },
    {
     "name": "stdout",
     "output_type": "stream",
     "text": [
      "\n",
      "Processing rgt 0613, #142 of 218\n",
      "There are 2 files available for this track from cycle 3 onward\n"
     ]
    },
    {
     "name": "stderr",
     "output_type": "stream",
     "text": [
      "/srv/conda/envs/notebook/lib/python3.7/site-packages/ipykernel_launcher.py:223: RuntimeWarning: divide by zero encountered in long_scalars\n"
     ]
    },
    {
     "name": "stdout",
     "output_type": "stream",
     "text": [
      "\n",
      "Processing rgt 0095, #143 of 218\n",
      "There are 0 files available for this track from cycle 3 onward\n",
      "\n",
      "Processing rgt 0431, #144 of 218\n",
      "There are 1 files available for this track from cycle 3 onward\n",
      "\n",
      "Processing rgt 0345, #145 of 218\n",
      "There are 1 files available for this track from cycle 3 onward\n",
      "\n",
      "Processing rgt 1071, #146 of 218\n",
      "There are 1 files available for this track from cycle 3 onward\n",
      "\n",
      "Processing rgt 0689, #147 of 218\n",
      "There are 2 files available for this track from cycle 3 onward\n",
      "\n",
      "Processing rgt 1274, #148 of 218\n",
      "There are 1 files available for this track from cycle 3 onward\n",
      "\n",
      "Processing rgt 1376, #149 of 218\n",
      "There are 0 files available for this track from cycle 3 onward\n",
      "\n",
      "Processing rgt 1345, #150 of 218\n",
      "There are 1 files available for this track from cycle 3 onward\n",
      "\n",
      "Processing rgt 0811, #151 of 218\n",
      "There are 2 files available for this track from cycle 3 onward\n",
      "\n",
      "Processing rgt 0004, #152 of 218\n",
      "There are 1 files available for this track from cycle 3 onward\n",
      "\n",
      "Processing rgt 0888, #153 of 218\n",
      "There are 2 files available for this track from cycle 3 onward\n",
      "\n",
      "Processing rgt 0452, #154 of 218\n",
      "There are 2 files available for this track from cycle 3 onward\n"
     ]
    },
    {
     "name": "stderr",
     "output_type": "stream",
     "text": [
      "/srv/conda/envs/notebook/lib/python3.7/site-packages/ipykernel_launcher.py:223: RuntimeWarning: divide by zero encountered in long_scalars\n",
      "/srv/conda/envs/notebook/lib/python3.7/site-packages/ipykernel_launcher.py:223: RuntimeWarning: invalid value encountered in long_scalars\n"
     ]
    },
    {
     "name": "stdout",
     "output_type": "stream",
     "text": [
      "\n",
      "Processing rgt 0065, #155 of 218\n",
      "There are 1 files available for this track from cycle 3 onward\n",
      "\n",
      "Processing rgt 0964, #156 of 218\n",
      "There are 1 files available for this track from cycle 3 onward\n",
      "\n",
      "Processing rgt 0217, #157 of 218\n",
      "There are 1 files available for this track from cycle 3 onward\n",
      "\n",
      "Processing rgt 1208, #158 of 218\n",
      "There are 1 files available for this track from cycle 3 onward\n",
      "\n",
      "Processing rgt 0893, #159 of 218\n",
      "There are 2 files available for this track from cycle 3 onward\n",
      "\n",
      "Processing rgt 0147, #160 of 218\n",
      "There are 1 files available for this track from cycle 3 onward\n",
      "\n",
      "Processing rgt 1360, #161 of 218\n",
      "There are 1 files available for this track from cycle 3 onward\n",
      "\n",
      "Processing rgt 0939, #162 of 218\n",
      "There are 1 files available for this track from cycle 3 onward\n",
      "\n",
      "Processing rgt 1092, #163 of 218\n",
      "There are 1 files available for this track from cycle 3 onward\n",
      "\n",
      "Processing rgt 1229, #164 of 218\n",
      "There are 1 files available for this track from cycle 3 onward\n",
      "\n",
      "Processing rgt 0110, #165 of 218\n",
      "There are 1 files available for this track from cycle 3 onward\n",
      "\n",
      "Processing rgt 1375, #166 of 218\n",
      "There are 0 files available for this track from cycle 3 onward\n",
      "\n",
      "Processing rgt 0406, #167 of 218\n",
      "There are 1 files available for this track from cycle 3 onward\n",
      "\n",
      "Processing rgt 0817, #168 of 218\n",
      "There are 2 files available for this track from cycle 3 onward\n"
     ]
    },
    {
     "name": "stderr",
     "output_type": "stream",
     "text": [
      "/srv/conda/envs/notebook/lib/python3.7/site-packages/ipykernel_launcher.py:223: RuntimeWarning: invalid value encountered in long_scalars\n"
     ]
    },
    {
     "name": "stdout",
     "output_type": "stream",
     "text": [
      "\n",
      "Processing rgt 0436, #169 of 218\n",
      "There are 1 files available for this track from cycle 3 onward\n",
      "\n",
      "Processing rgt 0863, #170 of 218\n",
      "There are 2 files available for this track from cycle 3 onward\n",
      "file /home/jovyan/shared/surface_velocity/FIS_ATL06/processed_ATL06_20190823150456_08630411_003_01.h5 encountered error 'Unable to open object (component not found)'\n",
      "\n",
      "Processing rgt 0787, #171 of 218\n",
      "There are 2 files available for this track from cycle 3 onward\n"
     ]
    },
    {
     "name": "stderr",
     "output_type": "stream",
     "text": [
      "/srv/conda/envs/notebook/lib/python3.7/site-packages/ipykernel_launcher.py:223: RuntimeWarning: invalid value encountered in long_scalars\n"
     ]
    },
    {
     "name": "stdout",
     "output_type": "stream",
     "text": [
      "\n",
      "Processing rgt 0934, #172 of 218\n",
      "There are 1 files available for this track from cycle 3 onward\n",
      "\n",
      "Processing rgt 0574, #173 of 218\n",
      "There are 2 files available for this track from cycle 3 onward\n"
     ]
    },
    {
     "name": "stderr",
     "output_type": "stream",
     "text": [
      "/srv/conda/envs/notebook/lib/python3.7/site-packages/ipykernel_launcher.py:223: RuntimeWarning: divide by zero encountered in long_scalars\n"
     ]
    },
    {
     "name": "stdout",
     "output_type": "stream",
     "text": [
      "rgt 0574 encountered an error\n",
      "\n",
      "Processing rgt 0949, #174 of 218\n",
      "There are 1 files available for this track from cycle 3 onward\n",
      "\n",
      "Processing rgt 0873, #175 of 218\n",
      "There are 1 files available for this track from cycle 3 onward\n",
      "\n",
      "Processing rgt 1070, #176 of 218\n",
      "There are 0 files available for this track from cycle 3 onward\n",
      "\n",
      "Processing rgt 0497, #177 of 218\n",
      "There are 2 files available for this track from cycle 3 onward\n",
      "\n",
      "Processing rgt 0009, #178 of 218\n",
      "There are 1 files available for this track from cycle 3 onward\n",
      "\n",
      "Processing rgt 1366, #179 of 218\n",
      "There are 0 files available for this track from cycle 3 onward\n",
      "\n",
      "Processing rgt 0528, #180 of 218\n",
      "There are 1 files available for this track from cycle 3 onward\n",
      "\n",
      "Processing rgt 1198, #181 of 218\n",
      "There are 1 files available for this track from cycle 3 onward\n",
      "\n",
      "Processing rgt 0025, #182 of 218\n",
      "There are 1 files available for this track from cycle 3 onward\n",
      "\n",
      "Processing rgt 0619, #183 of 218\n",
      "There are 2 files available for this track from cycle 3 onward\n",
      "\n",
      "Processing rgt 0247, #184 of 218\n",
      "There are 1 files available for this track from cycle 3 onward\n",
      "\n",
      "Processing rgt 0010, #185 of 218\n",
      "There are 1 files available for this track from cycle 3 onward\n",
      "\n",
      "Processing rgt 1107, #186 of 218\n",
      "There are 1 files available for this track from cycle 3 onward\n",
      "\n",
      "Processing rgt 1046, #187 of 218\n",
      "There are 1 files available for this track from cycle 3 onward\n",
      "\n",
      "Processing rgt 0162, #188 of 218\n",
      "There are 1 files available for this track from cycle 3 onward\n",
      "\n",
      "Processing rgt 1305, #189 of 218\n",
      "There are 1 files available for this track from cycle 3 onward\n",
      "\n",
      "Processing rgt 1116, #190 of 218\n",
      "There are 1 files available for this track from cycle 3 onward\n",
      "\n",
      "Processing rgt 0604, #191 of 218\n",
      "There are 2 files available for this track from cycle 3 onward\n"
     ]
    },
    {
     "name": "stderr",
     "output_type": "stream",
     "text": [
      "/srv/conda/envs/notebook/lib/python3.7/site-packages/ipykernel_launcher.py:223: RuntimeWarning: divide by zero encountered in long_scalars\n"
     ]
    },
    {
     "name": "stdout",
     "output_type": "stream",
     "text": [
      "\n",
      "Processing rgt 0827, #192 of 218\n",
      "There are 0 files available for this track from cycle 3 onward\n",
      "\n",
      "Processing rgt 0665, #193 of 218\n",
      "There are 2 files available for this track from cycle 3 onward\n",
      "\n",
      "Processing rgt 0430, #194 of 218\n",
      "There are 1 files available for this track from cycle 3 onward\n",
      "\n",
      "Processing rgt 0116, #195 of 218\n",
      "There are 1 files available for this track from cycle 3 onward\n",
      "\n",
      "Processing rgt 0771, #196 of 218\n",
      "There are 0 files available for this track from cycle 3 onward\n",
      "\n",
      "Processing rgt 0208, #197 of 218\n",
      "There are 1 files available for this track from cycle 3 onward\n",
      "\n",
      "Processing rgt 0086, #198 of 218\n",
      "There are 1 files available for this track from cycle 3 onward\n",
      "\n",
      "Processing rgt 0375, #199 of 218\n",
      "There are 1 files available for this track from cycle 3 onward\n",
      "\n",
      "Processing rgt 0186, #200 of 218\n",
      "There are 1 files available for this track from cycle 3 onward\n",
      "\n",
      "Processing rgt 0248, #201 of 218\n",
      "There are 1 files available for this track from cycle 3 onward\n",
      "\n",
      "Processing rgt 0299, #202 of 218\n",
      "There are 1 files available for this track from cycle 3 onward\n",
      "\n",
      "Processing rgt 1381, #203 of 218\n",
      "There are 0 files available for this track from cycle 3 onward\n",
      "\n",
      "Processing rgt 0284, #204 of 218\n",
      "There are 1 files available for this track from cycle 3 onward\n",
      "\n",
      "Processing rgt 0269, #205 of 218\n",
      "There are 1 files available for this track from cycle 3 onward\n",
      "\n",
      "Processing rgt 1086, #206 of 218\n",
      "There are 1 files available for this track from cycle 3 onward\n",
      "\n",
      "Processing rgt 1290, #207 of 218\n",
      "There are 1 files available for this track from cycle 3 onward\n",
      "\n",
      "Processing rgt 0223, #208 of 218\n",
      "There are 1 files available for this track from cycle 3 onward\n",
      "\n",
      "Processing rgt 1284, #209 of 218\n",
      "There are 1 files available for this track from cycle 3 onward\n",
      "\n",
      "Processing rgt 0177, #210 of 218\n",
      "There are 1 files available for this track from cycle 3 onward\n",
      "\n",
      "Processing rgt 0101, #211 of 218\n",
      "There are 1 files available for this track from cycle 3 onward\n",
      "\n",
      "Processing rgt 1077, #212 of 218\n",
      "There are 1 files available for this track from cycle 3 onward\n",
      "\n",
      "Processing rgt 0156, #213 of 218\n",
      "There are 1 files available for this track from cycle 3 onward\n",
      "\n",
      "Processing rgt 0278, #214 of 218\n",
      "There are 1 files available for this track from cycle 3 onward\n",
      "\n",
      "Processing rgt 1269, #215 of 218\n",
      "There are 1 files available for this track from cycle 3 onward\n",
      "\n",
      "Processing rgt 0238, #216 of 218\n",
      "There are 0 files available for this track from cycle 3 onward\n",
      "\n",
      "Processing rgt 0055, #217 of 218\n",
      "There are 1 files available for this track from cycle 3 onward\n",
      "Total number of repeat tracks successfully processed = 60\n"
     ]
    }
   ],
   "source": [
    "cycles = ['03','04','05','06','07'] # not doing 1 and 2, because don't overlap exactly\n",
    "# this could be future work\n",
    "\n",
    "beams = ['gt1l','gt1r','gt2l','gt2r','gt3l','gt3r']\n",
    "\n",
    "# try and smooth without filling nans\n",
    "dx = 20 # x_atc coordinate distance\n",
    "smoothing_window_size = int(np.round(40 / dx)) # meters / dx;\n",
    "# ex., 60 m smoothing window is a 3 point running average smoothed dataset, because each point is 20 m apart\n",
    "filt = np.ones(smoothing_window_size)\n",
    "smoothed = True\n",
    "\n",
    "segment_length = 2000 # m\n",
    "search_width = 800 # m\n",
    "\n",
    "along_track_step = 100 # m; how much to jump between each veloc determination\n",
    "\n",
    "max_percent_nans = 10 # what % of segment length can be nans\n",
    "\n",
    "velocities = {}   \n",
    "correlations = {}     \n",
    "lags = {}\n",
    "x_atcs_for_velocities = {}\n",
    "rgts_with_errors = []\n",
    "total_number_repeat_tracks_processed = 0\n",
    "for ir, rgt in enumerate(rgts.keys()):\n",
    "    if ir <= 218: # just process a few for the moment\n",
    "        try:\n",
    "            print('\\nProcessing rgt ' + rgt + ', #' +str(ir) + ' of ' + str(len(rgts.keys())))\n",
    "\n",
    "            ### load all files for this rgt\n",
    "            rgt_files = glob.glob(os.path.join(datapath, f'*ATL06_*_{rgt}*_003*.h5'))\n",
    "            n_rgt_files_cycle3_and_after = 0\n",
    "            for file in rgt_files:\n",
    "                if float(file.split('/')[-1].split('_')[3][4:6]) >= 3:\n",
    "                    n_rgt_files_cycle3_and_after += 1\n",
    "\n",
    "            print('There are ' +str(n_rgt_files_cycle3_and_after) + ' files available for this track from cycle 3 onward')\n",
    "\n",
    "\n",
    "            ### only process if there is at least one repeat track during the time period when data overlapped\n",
    "            if n_rgt_files_cycle3_and_after >= 2:\n",
    "                ### extract data from all available cycles\n",
    "                x_atc = {}\n",
    "                h_li_raw = {} # unsmoothed data; equally spaced x_atc, still has nans \n",
    "                h_li_raw_NoNans = {} # unsmoothed data; equally spaced x_atc, nans filled with noise\n",
    "                h_li = {} # smoothed data, equally spaced x_atc, nans filled with noise \n",
    "                h_li_diff = {}\n",
    "                times = {}\n",
    "                min_seg_ids = {}\n",
    "\n",
    "                cycles_this_rgt = []\n",
    "                for cycle in cycles:\n",
    "                    # load data that matches cycle; put into dictionaries to use shortly\n",
    "                    Di = {}\n",
    "                    x_atc[cycle] = {}\n",
    "                    h_li_raw[cycle] = {}\n",
    "                    h_li_raw_NoNans[cycle] = {}\n",
    "                    h_li[cycle] = {}\n",
    "                    h_li_diff[cycle] = {}\n",
    "                    times[cycle] = {}\n",
    "                    min_seg_ids[cycle] = {}\n",
    "\n",
    "\n",
    "                    filenames = glob.glob(os.path.join(datapath, f'*ATL06_*_{rgt}{cycle}*_003*.h5'))\n",
    "                    #print(filenames)\n",
    "                    error_count=0\n",
    "                    for filename in filenames:\n",
    "                        try:\n",
    "                            for beam in beams:\n",
    "                                Di[filename]=atl06_to_dict(filename,'/'+ beam, index=None, epsg=3031)\n",
    "\n",
    "                                times[cycle][beam] = Di[filename]['data_start_utc']\n",
    "\n",
    "                                # extract h_li and x_atc for that section                \n",
    "                                x_atc_tmp = Di[filename]['x_atc']\n",
    "                                h_li_tmp = Di[filename]['h_li']#[ixs]\n",
    "\n",
    "                                # segment ids:\n",
    "                                seg_ids = Di[filename]['segment_id']\n",
    "                                min_seg_ids[cycle][beam] = seg_ids[0]\n",
    "                                #print(len(seg_ids), len(x_atc_tmp))\n",
    "\n",
    "                                # make a monotonically increasing x vector\n",
    "                                # assumes dx = 20 exactly, so be carefull referencing back\n",
    "                                ind = seg_ids - np.nanmin(seg_ids) # indices starting at zero, using the segment_id field, so any skipped segment will be kept in correct location\n",
    "                                x_full = np.arange(np.max(ind)+1) * 20 + x_atc_tmp[0]\n",
    "                                h_full = np.zeros(np.max(ind)+1) + np.NaN\n",
    "                                h_full[ind] = h_li_tmp\n",
    "\n",
    "                                x_atc[cycle][beam] = x_full\n",
    "                                h_li_raw[cycle][beam] = h_full # preserves nan values\n",
    "\n",
    "                                ### fill in nans with noise h_li datasets\n",
    "            #                         h = ma.array(h_full,mask =np.isnan(h_full)) # created a masked array, mask is where the nans are\n",
    "            #                         h_full_filled = h.mask * (np.random.randn(*h.shape)) # fill in all the nans with random noise\n",
    "\n",
    "                                ### interpolate nans in pandas\n",
    "                                # put in dataframe for just this step; eventually rewrite to use only dataframes?\n",
    "                                data = {'x_full': x_full, 'h_full': h_full}\n",
    "                                df = pd.DataFrame(data, columns = ['x_full','h_full'])\n",
    "                                #df.plot(x='x_full',y='h_full')\n",
    "                                # linear interpolation for now\n",
    "                                df['h_full'].interpolate(method = 'linear', inplace = True)\n",
    "                                h_full_interp = df['h_full'].values\n",
    "                                h_li_raw_NoNans[cycle][beam] = h_full_interp # has filled nan values\n",
    "\n",
    "\n",
    "                                # running average smoother /filter\n",
    "                                if smoothed == True:\n",
    "                                    h_smoothed = (1/smoothing_window_size) * np.convolve(filt, h_full_interp, mode = 'same')\n",
    "                                    #h_smoothed = (1/smoothing_window_size) * np.convolve(filt, h_full, mode = 'same')\n",
    "                                    h_li[cycle][beam] = h_smoothed\n",
    "\n",
    "                                    # differentiate that section of data\n",
    "                                    h_diff = (h_smoothed[1:] - h_smoothed[0:-1]) / (x_full[1:] - x_full[0:-1])\n",
    "                                else: \n",
    "                                    h_li[cycle][beam] = h_full_interp\n",
    "                                    h_diff = (h_full_interp[1:] - h_full_interp[0:-1]) / (x_full[1:] - x_full[0:-1])\n",
    "            #                             h_li[cycle][beam] = h_full\n",
    "            #                             h_diff = (h_full[1:] - h_full[0:-1]) / (x_full[1:] - x_full[0:-1])\n",
    "                                h_li_diff[cycle][beam] = h_diff\n",
    "\n",
    "            #                         # plot\n",
    "            #                         axs[0].plot(x_full, h_full)\n",
    "            #                         axs[1].plot(x_full[1:], h_diff)\n",
    "            #         #                 axs[2].plot(x_atc_tmp[1:] - x_atc_tmp[:-1])\n",
    "            #                         axs[2].plot(np.isnan(h_full))\n",
    "            #                         axs[3].plot(seg_ids[1:]- seg_ids[:-1])\n",
    "\n",
    "\n",
    "                            cycles_this_rgt+=[cycle]\n",
    "\n",
    "\n",
    "                        except KeyError as e:\n",
    "                            print(f'file {filename} encountered error {e}')\n",
    "                            error_count += 1\n",
    "\n",
    "                    #print(f\"For rgt {rgt} cycle {cycle}, read {len(Di)} data files of which {error_count} gave errors\")\n",
    "\n",
    "\n",
    "                ### Determine # of possible velocities:\n",
    "                n_possible_veloc = len(cycles_this_rgt) -1 # naive, for now; can improve later\n",
    "                for veloc_number in range(n_possible_veloc):\n",
    "                    cycle1 = cycles[veloc_number]\n",
    "                    cycle2 = cycles[veloc_number+1]\n",
    "                    t1_string = times[cycle1]['gt1l'][0].astype(str) #figure out later if just picking hte first one it ok\n",
    "                    t1 = Time(t1_string)\n",
    "\n",
    "                    t2_string = times[cycle2]['gt1l'][0].astype(str) #figure out later if just picking hte first one it ok\n",
    "                    t2 = Time(t2_string)\n",
    "\n",
    "                    dt = (t2 - t1).jd # difference in julian days\n",
    "\n",
    "\n",
    "                    velocities[rgt] = {}   \n",
    "                    correlations[rgt] = {}     \n",
    "                    lags[rgt] = {}\n",
    "\n",
    "                    for beam in beams:\n",
    "                        # fig1, axs = plt.subplots(4,1)\n",
    "\n",
    "\n",
    "                        ### determine x1: larger value for both beams, if different\n",
    "                        min_x_atc_cycle1 = x_atc[cycle1][beam][0]\n",
    "                        min_x_atc_cycle2 = x_atc[cycle2][beam][0]\n",
    "\n",
    "                        # pick out the track that starts at greater x_atc, and use that as x1s vector\n",
    "                        if min_x_atc_cycle1 != min_x_atc_cycle2: \n",
    "                            x1 = np.nanmax([min_x_atc_cycle1,min_x_atc_cycle2])\n",
    "                            cycle_n = np.arange(0,2)[[min_x_atc_cycle1,min_x_atc_cycle2] == x1][0]\n",
    "                            if cycle_n == 0:\n",
    "                                cycletmp = cycle2\n",
    "                            elif cycle_n == 1:\n",
    "                                cycletmp = cycle1\n",
    "                            n_segments_this_track = (len(x_atc[cycletmp][beam]) - search_width/dx) / (along_track_step/dx)\n",
    "                            x1s = x_atc[cycletmp][beam][int(search_width/dx)+1::int(search_width/dx)]\n",
    "                            # start at search_width/dx in, so the code never tries to get data outside the edges of this rgt\n",
    "                            # add 1 bc the data are differentiated, and h_li_diff is therefore one point shorter\n",
    "\n",
    "                        elif min_x_atc_cycle1 == min_x_atc_cycle2: # doesn't matter which cycle\n",
    "                            x1s = x_atc[cycle1][beam][int(search_width/dx)+1::int(search_width/dx)]\n",
    "\n",
    "                        ### determine xend: smaller value for both beams, if different\n",
    "                        max_x_atc_cycle1 = x_atc[cycle1][beam][-1]\n",
    "                        max_x_atc_cycle2 = x_atc[cycle2][beam][-1]\n",
    "                        smallest_xatc = np.min([max_x_atc_cycle1,max_x_atc_cycle2])\n",
    "                        ixmax = np.where(x1s >= smallest_xatc - search_width/dx)\n",
    "                        if len(ixmax[0]) >= 1:\n",
    "                            ixtmp = ixmax[0][0]\n",
    "                            x1s = x1s[:ixtmp]\n",
    "\n",
    "                        ### dicts to store info in\n",
    "                        velocities[rgt][beam] = np.empty_like(x1s)\n",
    "                        correlations[rgt][beam] = np.empty_like(x1s)\n",
    "                        lags[rgt][beam] = np.empty_like(x1s)\n",
    "\n",
    "                        for xi, x1 in enumerate(x1s):\n",
    "                            # cut out small chunk of data at time t1 (first cycle)\n",
    "                            x_full_t1 = x_atc[cycle1][beam]\n",
    "                            ix_x1 = np.arange(len(x_full_t1))[x_full_t1 >= x1][0]\n",
    "                            ix_x2 = ix_x1 + int(np.round(segment_length/dx))      \n",
    "                            x_t1 = x_full_t1[ix_x1:ix_x2]\n",
    "                            h_li1 = h_li_diff[cycle1][beam][ix_x1-1:ix_x2-1] # start 1 index earlier because \n",
    "                            # the h_li_diff data are differentiated, and therefore one sample shorter\n",
    "\n",
    "                            # cut out a wider chunk of data at time t2 (second cycle)\n",
    "                            x_full_t2 = x_atc[cycle2][beam]\n",
    "                            ix_x3 = ix_x1 - int(np.round(search_width/dx)) # offset on earlier end by # indices in search_width\n",
    "                            ix_x4 = ix_x2 + int(np.round(search_width/dx)) # offset on later end by # indices in search_width\n",
    "                            x_t2 = x_full_t2[ix_x3:ix_x4]\n",
    "                            h_li2 = h_li_diff[cycle2][beam][ix_x3-1:ix_x4-1]# start 1 index earlier because \n",
    "                            # the h_li_diff data are differentiated, and therefore one sample shorter\n",
    "\n",
    "                            # plot data\n",
    "                            # axs[0].plot(x_t2, h_li2, 'r')\n",
    "                            # axs[0].plot(x_t1, h_li1, 'k')\n",
    "                            # axs[0].set_xlabel('x_atc (m)')\n",
    "\n",
    "                            ### if there are fewer than 10% nans in either data chunk:\n",
    "                            n_nans1 = np.sum(np.isnan(h_li_raw[cycle1][beam][ix_x1:ix_x2]))\n",
    "                            n_nans2 = np.sum(np.isnan(h_li_raw[cycle2][beam][ix_x3:ix_x4]))\n",
    "\n",
    "                            if (n_nans1 / len(h_li1) <= max_percent_nans/100) and (n_nans2 / len(h_li2) <= max_percent_nans/100):\n",
    "\n",
    "                                # correlate old with newer data\n",
    "                                # detrend both chunks of data\n",
    "                                h_li1 = detrend(h_li1,type = 'linear')\n",
    "                                h_li2 = detrend(h_li2,type = 'linear')\n",
    "\n",
    "                                # normalize both chunks of data\n",
    "            #                         h_li1 = h_li1 / np.nanmax(np.abs(h_li1))\n",
    "            #                         h_li2 = h_li2 / np.nanmax(np.abs(h_li2))\n",
    "\n",
    "                                corr = correlate(h_li1, h_li2, mode = 'valid', method = 'direct') \n",
    "\n",
    "                                # normalize correlation function; simplest way (not quite correct)\n",
    "                                # norm_val = np.sqrt(np.sum(h_li1**2)*np.sum(h_li2**2)) # normalize so values range between 0 and 1\n",
    "                                # corr = corr / norm_val\n",
    "\n",
    "                                # a better way to normalize correlation function: shifting along longer vector\n",
    "                                # normalize by autocorrelations\n",
    "                                coeff_a_val = np.sum(h_li1**2)\n",
    "                                coeff_b_val = np.zeros(len(h_li2) - len(h_li1)+1)\n",
    "                                for shift in range(len(h_li2) - len(h_li1)+1):\n",
    "                                    h_li2_section = h_li2[shift:shift + len(h_li1)]\n",
    "                                    coeff_b_val[shift] = np.sum(h_li2_section **2)\n",
    "                                norm_vec = np.sqrt(coeff_a_val * coeff_b_val)\n",
    "                                corr_normed = corr / np.flip(norm_vec) # i don't really understand why this has to flip, but it does\n",
    "\n",
    "\n",
    "                        #         lagvec = np.arange( -(len(h_li1) - 1), len(h_li2), 1)# for mode = 'full'\n",
    "                        #         lagvec = np.arange( -int(search_width/dx) - 1, int(search_width/dx) +1, 1) # for mode = 'valid'\n",
    "                                lagvec = np.arange(- int(np.round(search_width/dx)), int(search_width/dx) +1,1)# for mode = 'valid'\n",
    "\n",
    "                                shift_vec = lagvec * dx\n",
    "\n",
    "                                ix_peak = np.arange(len(corr_normed))[corr_normed == np.nanmax(corr_normed)][0]\n",
    "                                best_lag = lagvec[ix_peak]\n",
    "                                best_shift = shift_vec[ix_peak]\n",
    "                                velocities[rgt][beam][xi] = best_shift/(dt/365)\n",
    "                                correlations[rgt][beam][xi] = corr_normed[ix_peak]\n",
    "                                lags[rgt][beam][xi] = lagvec[ix_peak]\n",
    "                            else:\n",
    "                                velocities[rgt][beam][xi] = np.nan\n",
    "                                correlations[rgt][beam][xi] = np.nan\n",
    "                                lags[rgt][beam][xi] = np.nan\n",
    "                                \n",
    "                total_number_repeat_tracks_processed += 1\n",
    "\n",
    "        except (ValueError, IndexError):\n",
    "            print(f'rgt {rgt} encountered an error')\n",
    "            rgts_with_errors.append(rgt)\n",
    "            \n",
    "print(f'Total number of repeat tracks successfully processed = {total_number_repeat_tracks_processed}')\n",
    "\n",
    "                    # axs[1].plot(lagvec,corr)\n",
    "                    # axs[1].plot(lagvec[ix_peak],corr[ix_peak], 'r*')\n",
    "                    # axs[1].set_xlabel('lag (samples)')\n",
    "\n",
    "                    # axs[2].plot(shift_vec,corr)\n",
    "                    # axs[2].plot(shift_vec[ix_peak],corr[ix_peak], 'r*')\n",
    "                    # axs[2].set_xlabel('shift (m)')\n",
    "\n",
    "                    ## plot shifted data\n",
    "                    # axs[3].plot(x_t2, h_li2, 'r')\n",
    "                    # axs[3].plot(x_t1 - best_shift, h_li1, 'k')\n",
    "                    # axs[3].set_xlabel('x_atc (m)')\n",
    "\n",
    "                    # axs[0].text(x_t2[100], 0.6*np.nanmax(h_li2), beam)\n",
    "                    # axs[1].text(lagvec[5], 0.6*np.nanmax(corr), 'best lag: ' + str(best_lag) + '; corr val: ' + str(np.round(corr[ix_peak],3)))\n",
    "                    # axs[2].text(shift_vec[5], 0.6*np.nanmax(corr), 'best shift: ' + str(best_shift) + ' m'+ '; corr val: ' + str(np.round(corr[ix_peak],3)))\n",
    "                    # axs[2].text(shift_vec[5], 0.3*np.nanmax(corr), 'veloc of ' + str(np.round(best_shift/(dt/365),1)) + ' m/yr')\n",
    "\n",
    "\n",
    "\n"
   ]
  },
  {
   "cell_type": "markdown",
   "metadata": {},
   "source": [
    "\n",
    "\n",
    "# save xatc positions, lats, lons"
   ]
  },
  {
   "cell_type": "code",
   "execution_count": 178,
   "metadata": {},
   "outputs": [
    {
     "data": {
      "application/vnd.jupyter.widget-view+json": {
       "model_id": "b68b12ccba33440591b79791b1ec24b8",
       "version_major": 2,
       "version_minor": 0
      },
      "text/plain": [
       "Canvas(toolbar=Toolbar(toolitems=[('Home', 'Reset original view', 'home', 'home'), ('Back', 'Back to previous …"
      ]
     },
     "metadata": {},
     "output_type": "display_data"
    },
    {
     "name": "stderr",
     "output_type": "stream",
     "text": [
      "/srv/conda/envs/notebook/lib/python3.7/site-packages/ipykernel_launcher.py:8: RuntimeWarning: invalid value encountered in greater_equal\n",
      "  \n"
     ]
    },
    {
     "data": {
      "application/vnd.jupyter.widget-view+json": {
       "model_id": "a62f377b936f409a8cfb90c90386b963",
       "version_major": 2,
       "version_minor": 0
      },
      "text/plain": [
       "Canvas(toolbar=Toolbar(toolitems=[('Home', 'Reset original view', 'home', 'home'), ('Back', 'Back to previous …"
      ]
     },
     "metadata": {},
     "output_type": "display_data"
    },
    {
     "data": {
      "application/vnd.jupyter.widget-view+json": {
       "model_id": "0822dd7d37014b68a0beeba448df33a0",
       "version_major": 2,
       "version_minor": 0
      },
      "text/plain": [
       "Canvas(toolbar=Toolbar(toolitems=[('Home', 'Reset original view', 'home', 'home'), ('Back', 'Back to previous …"
      ]
     },
     "metadata": {},
     "output_type": "display_data"
    },
    {
     "name": "stderr",
     "output_type": "stream",
     "text": [
      "/srv/conda/envs/notebook/lib/python3.7/site-packages/ipykernel_launcher.py:8: RuntimeWarning: invalid value encountered in greater_equal\n",
      "  \n"
     ]
    },
    {
     "data": {
      "application/vnd.jupyter.widget-view+json": {
       "model_id": "98652096e6a648e8824a86a44d239920",
       "version_major": 2,
       "version_minor": 0
      },
      "text/plain": [
       "Canvas(toolbar=Toolbar(toolitems=[('Home', 'Reset original view', 'home', 'home'), ('Back', 'Back to previous …"
      ]
     },
     "metadata": {},
     "output_type": "display_data"
    },
    {
     "name": "stderr",
     "output_type": "stream",
     "text": [
      "/srv/conda/envs/notebook/lib/python3.7/site-packages/ipykernel_launcher.py:8: RuntimeWarning: invalid value encountered in greater_equal\n",
      "  \n"
     ]
    },
    {
     "data": {
      "application/vnd.jupyter.widget-view+json": {
       "model_id": "1686c7bb0f1144af9b02fa488b1283f0",
       "version_major": 2,
       "version_minor": 0
      },
      "text/plain": [
       "Canvas(toolbar=Toolbar(toolitems=[('Home', 'Reset original view', 'home', 'home'), ('Back', 'Back to previous …"
      ]
     },
     "metadata": {},
     "output_type": "display_data"
    },
    {
     "name": "stderr",
     "output_type": "stream",
     "text": [
      "/srv/conda/envs/notebook/lib/python3.7/site-packages/ipykernel_launcher.py:8: RuntimeWarning: invalid value encountered in greater_equal\n",
      "  \n"
     ]
    },
    {
     "data": {
      "application/vnd.jupyter.widget-view+json": {
       "model_id": "42b8f641768c43d7ace120c56f91af48",
       "version_major": 2,
       "version_minor": 0
      },
      "text/plain": [
       "Canvas(toolbar=Toolbar(toolitems=[('Home', 'Reset original view', 'home', 'home'), ('Back', 'Back to previous …"
      ]
     },
     "metadata": {},
     "output_type": "display_data"
    },
    {
     "name": "stderr",
     "output_type": "stream",
     "text": [
      "/srv/conda/envs/notebook/lib/python3.7/site-packages/ipykernel_launcher.py:8: RuntimeWarning: invalid value encountered in greater_equal\n",
      "  \n"
     ]
    },
    {
     "data": {
      "application/vnd.jupyter.widget-view+json": {
       "model_id": "aa6f1b8ae31948a7ae0e84b1b1293fac",
       "version_major": 2,
       "version_minor": 0
      },
      "text/plain": [
       "Canvas(toolbar=Toolbar(toolitems=[('Home', 'Reset original view', 'home', 'home'), ('Back', 'Back to previous …"
      ]
     },
     "metadata": {},
     "output_type": "display_data"
    },
    {
     "name": "stderr",
     "output_type": "stream",
     "text": [
      "/srv/conda/envs/notebook/lib/python3.7/site-packages/ipykernel_launcher.py:8: RuntimeWarning: invalid value encountered in greater_equal\n",
      "  \n"
     ]
    },
    {
     "data": {
      "application/vnd.jupyter.widget-view+json": {
       "model_id": "30812ccc45d54a9b82713e5657698e7a",
       "version_major": 2,
       "version_minor": 0
      },
      "text/plain": [
       "Canvas(toolbar=Toolbar(toolitems=[('Home', 'Reset original view', 'home', 'home'), ('Back', 'Back to previous …"
      ]
     },
     "metadata": {},
     "output_type": "display_data"
    },
    {
     "name": "stderr",
     "output_type": "stream",
     "text": [
      "/srv/conda/envs/notebook/lib/python3.7/site-packages/ipykernel_launcher.py:8: RuntimeWarning: invalid value encountered in greater_equal\n",
      "  \n"
     ]
    },
    {
     "data": {
      "application/vnd.jupyter.widget-view+json": {
       "model_id": "2097d602cf404b268daf7ca75db4c6a5",
       "version_major": 2,
       "version_minor": 0
      },
      "text/plain": [
       "Canvas(toolbar=Toolbar(toolitems=[('Home', 'Reset original view', 'home', 'home'), ('Back', 'Back to previous …"
      ]
     },
     "metadata": {},
     "output_type": "display_data"
    },
    {
     "name": "stderr",
     "output_type": "stream",
     "text": [
      "/srv/conda/envs/notebook/lib/python3.7/site-packages/ipykernel_launcher.py:8: RuntimeWarning: invalid value encountered in greater_equal\n",
      "  \n"
     ]
    }
   ],
   "source": [
    "plt.close('all')\n",
    "for ir, rgt in enumerate(rgts.keys()):\n",
    "    if rgt in correlations.keys():\n",
    "        if ir >= 80 and ir <= 150:\n",
    "            fig1, axs = plt.subplots(6,1)\n",
    "            for ib, beam in enumerate(beams):\n",
    "                if beam in correlations[rgt].keys():\n",
    "                    ixs = correlations[rgt][beam] >= 0.65\n",
    "    #                 plt.scatter(np.arange(len(velocities[rgt][beam])), velocities[rgt][beam], 10, correlations[rgt][beam],'.')\n",
    "                    axs[ib].scatter(np.arange(len(velocities[rgt][beam]))[ixs], velocities[rgt][beam][ixs], 10, correlations[rgt][beam][ixs],'.')\n",
    "                    axs[ib].set_ylim([-1000,1000])\n",
    "            fig1.suptitle(f'{rgt}')\n",
    "#             plt.ylim([-1000,1000])\n",
    "#             plt.suptitle(f'{rgt}')\n",
    "#             plt.colorbar()"
   ]
  },
  {
   "cell_type": "code",
   "execution_count": 144,
   "metadata": {},
   "outputs": [
    {
     "data": {
      "application/vnd.jupyter.widget-view+json": {
       "model_id": "a55313464da14f6e87999629679061ab",
       "version_major": 2,
       "version_minor": 0
      },
      "text/plain": [
       "Canvas(toolbar=Toolbar(toolitems=[('Home', 'Reset original view', 'home', 'home'), ('Back', 'Back to previous …"
      ]
     },
     "metadata": {},
     "output_type": "display_data"
    },
    {
     "data": {
      "text/plain": [
       "[<matplotlib.lines.Line2D at 0x7f6e9a6f5810>]"
      ]
     },
     "execution_count": 144,
     "metadata": {},
     "output_type": "execute_result"
    }
   ],
   "source": [
    "# plt.figure()\n",
    "# plt.plot(velocities[beam])\n",
    "# tmp = ma.array(velocities[beam], mask = correlations[beam] > 0.8)\n",
    "plt.figure()\n",
    "# for ir, rgt in enumerate(rgts.keys()):\n",
    "#     if ir <= 10:\n",
    "plt.plot(correlations['0558'][beam],'.')"
   ]
  },
  {
   "cell_type": "code",
   "execution_count": 166,
   "metadata": {},
   "outputs": [
    {
     "name": "stdout",
     "output_type": "stream",
     "text": [
      "0.0002409204018476886 0.0002409204018476886\n",
      "0.0002409204018476886 0.0407063666043397\n",
      "[ 2.40920402e-04 -7.15742208e-07 -1.64216569e-04 -2.32629427e-04\n",
      " -2.09965484e-04 -1.03039429e-04  6.20370549e-05  2.46357073e-04\n",
      "  4.20495398e-04  5.28644031e-04]\n",
      "[5.80426400e-08 5.12286908e-13 2.69670815e-08 5.41164502e-08\n",
      " 4.40855043e-08 1.06171238e-08 3.84859618e-09 6.06918075e-08\n",
      " 1.76816379e-07 2.79464511e-07]\n"
     ]
    }
   ],
   "source": [
    "corr\n",
    "corr_normed = corr #/ norm_vec\n",
    "print(corr[0], corr_normed[0])\n",
    "corr_normed = corr / norm_vec\n",
    "print(corr[0], corr_normed[0])\n",
    "\n",
    "print(corr[0:10])\n",
    "print(corr[0:10]**2)\n"
   ]
  },
  {
   "cell_type": "code",
   "execution_count": 192,
   "metadata": {},
   "outputs": [
    {
     "data": {
      "application/vnd.jupyter.widget-view+json": {
       "model_id": "deb8845e30b042d482dc90c0263e7d83",
       "version_major": 2,
       "version_minor": 0
      },
      "text/plain": [
       "Canvas(toolbar=Toolbar(toolitems=[('Home', 'Reset original view', 'home', 'home'), ('Back', 'Back to previous …"
      ]
     },
     "metadata": {},
     "output_type": "display_data"
    },
    {
     "data": {
      "application/vnd.jupyter.widget-view+json": {
       "model_id": "1e67dc8ac4fd4a0b914e84258e4c52de",
       "version_major": 2,
       "version_minor": 0
      },
      "text/plain": [
       "Canvas(toolbar=Toolbar(toolitems=[('Home', 'Reset original view', 'home', 'home'), ('Back', 'Back to previous …"
      ]
     },
     "metadata": {},
     "output_type": "display_data"
    },
    {
     "name": "stdout",
     "output_type": "stream",
     "text": [
      "100 100\n",
      "100\n",
      "0.003427287896338384 0.0034272878963383844\n",
      "0.004369102303929098 0.002920408365446537\n",
      "0.784437547561258 0.7844375475612582\n"
     ]
    }
   ],
   "source": [
    "# ### debugging the correlation step\n",
    "xi = 293 # this one has \n",
    "x1 = x1s[xi]\n",
    "\n",
    "cycle2 = cycles[1] #cycle1\n",
    "\n",
    "# cut out small chunk of data at time t1 (first cycle)\n",
    "x_full_t1 = x_atc[cycle1][beam]\n",
    "ix_x1 = np.arange(len(x_full_t1))[x_full_t1 >= x1][0]\n",
    "ix_x2 = ix_x1 + int(np.round(segment_length/dx))      \n",
    "x_t1 = x_full_t1[ix_x1:ix_x2]\n",
    "h_li1 = h_li_diff[cycle1][beam][ix_x1-1:ix_x2-1].copy() # start 1 index earlier because \n",
    "# the h_li_diff data are differentiated, and therefore one sample shorter\n",
    "\n",
    "# cut out a wider chunk of data at time t2 (second cycle)\n",
    "x_full_t2 = x_atc[cycle2][beam]\n",
    "ix_x3 = ix_x1 - int(np.round(search_width/dx)) # offset on earlier end by # indices in search_width\n",
    "ix_x4 = ix_x2 + int(np.round(search_width/dx)) # offset on later end by # indices in search_width\n",
    "x_t2 = x_full_t2[ix_x3:ix_x4]\n",
    "h_li2 = h_li_diff[cycle2][beam][ix_x3-1:ix_x4-1].copy()# start 1 index earlier because \n",
    "# the h_li_diff data are differentiated, and therefore one sample shorter\n",
    "\n",
    "# plot data\n",
    "# axs[0].plot(x_t2, h_li2, 'r')\n",
    "# axs[0].plot(x_t1, h_li1, 'k')\n",
    "# axs[0].set_xlabel('x_atc (m)')\n",
    "\n",
    "### if there are fewer than 10% nans in either data chunk:\n",
    "n_nans1 = np.sum(np.isnan(h_li_raw[cycle1][beam][ix_x1:ix_x2]))\n",
    "n_nans2 = np.sum(np.isnan(h_li_raw[cycle2][beam][ix_x3:ix_x4]))\n",
    "\n",
    "if (n_nans1 / len(h_li1) <= max_percent_nans/100) and (n_nans2 / len(h_li2) <= max_percent_nans/100):\n",
    "\n",
    "#     # correlate old with newer data\n",
    "#     # detrend both chunks of data\n",
    "#     h_li1 = detrend(h_li1,type = 'linear')\n",
    "#     h_li2 = detrend(h_li2,type = 'linear')\n",
    "\n",
    "#     # normalize both chunks of data\n",
    "#     h_li1 = h_li1 / np.nanmax(np.abs(h_li1))\n",
    "#     h_li2 = h_li2 / np.nanmax(np.abs(h_li2))\n",
    "\n",
    "    corr = correlate(h_li1, h_li2, mode = 'valid', method = 'direct') \n",
    "\n",
    "    # normalize correlation function; simplest way (not quite correct)\n",
    "    # norm_val = np.sqrt(np.sum(h_li1**2)*np.sum(h_li2**2)) # normalize so values range between 0 and 1\n",
    "    # corr = corr / norm_val\n",
    "\n",
    "    # a better way to normalize correlation function: shifting along longer vector\n",
    "    # normalize by autocorrelations\n",
    "    coeff_a_val = np.sum(h_li1**2)\n",
    "    coeff_b_val = np.zeros(len(h_li2) - len(h_li1)+1)\n",
    "    for shift in range(len(h_li2) - len(h_li1)+1):\n",
    "        h_li2_section = h_li2[shift:shift + len(h_li1)]\n",
    "        coeff_b_val[shift] = np.sum(h_li2_section **2)\n",
    "    norm_vec = np.sqrt(coeff_a_val * coeff_b_val)\n",
    "    corr_normed = corr / np.flip(norm_vec)\n",
    "\n",
    "#         lagvec = np.arange( -(len(h_li1) - 1), len(h_li2), 1)# for mode = 'full'\n",
    "#         lagvec = np.arange( -int(search_width/dx) - 1, int(search_width/dx) +1, 1) # for mode = 'valid'\n",
    "    lagvec = np.arange(- int(np.round(search_width/dx)), int(search_width/dx) +1,1)# for mode = 'valid'\n",
    "\n",
    "    shift_vec = lagvec * dx\n",
    "\n",
    "    ix_peak = np.arange(len(corr_normed))[corr_normed == np.nanmax(corr_normed)][0]\n",
    "    best_lag = lagvec[ix_peak]\n",
    "    best_shift = shift_vec[ix_peak]\n",
    "    velocities[beam][xi] = best_shift/(dt/365)\n",
    "    correlations[beam][xi] = corr_normed[ix_peak]\n",
    "    lags[beam][xi] = lagvec[ix_peak]\n",
    "else:\n",
    "    velocities[beam][xi] = np.nan\n",
    "    correlations[beam][xi] = np.nan\n",
    "    lags[beam][xi] = np.nan\n",
    "\n",
    "    \n",
    "fig, axs = plt.subplots(4,1)   \n",
    "axs[0].plot(x_t2, h_li2, 'r')\n",
    "axs[0].plot(x_t1, h_li1, 'k')\n",
    "axs[0].set_xlabel('x_atc (m)')\n",
    "\n",
    "axs[1].plot(lagvec,corr_normed)\n",
    "axs[1].plot(lagvec[ix_peak],corr_normed[ix_peak], 'r*')\n",
    "axs[1].set_xlabel('lag (samples)')\n",
    "\n",
    "axs[2].plot(shift_vec,corr_normed)\n",
    "axs[2].plot(shift_vec[ix_peak],corr_normed[ix_peak], 'r*')\n",
    "axs[2].set_xlabel('shift (m)')\n",
    "\n",
    "# plot shifted data\n",
    "axs[3].plot(x_t2, h_li2, 'r')\n",
    "axs[3].plot(x_t1 - best_shift, h_li1, 'k')\n",
    "axs[3].set_xlabel('x_atc (m)')\n",
    "\n",
    "axs[0].text(x_t2[100], 0.6*np.nanmax(h_li2), beam)\n",
    "axs[1].text(lagvec[5], 0.6*np.nanmax(corr_normed), 'best lag: ' + str(best_lag) + '; corr val: ' + str(np.round(corr_normed[ix_peak],3)))\n",
    "axs[2].text(shift_vec[5], 0.6*np.nanmax(corr_normed), 'best shift: ' + str(best_shift) + ' m'+ '; corr val: ' + str(np.round(corr_normed[ix_peak],3)))\n",
    "axs[2].text(shift_vec[5], 0.3*np.nanmax(corr_normed), 'veloc of ' + str(np.round(best_shift/(dt/365),1)) + ' m/yr')\n",
    "\n",
    "\n",
    "# plt.figure()\n",
    "# plt.plot()\n",
    "x1 = h_li1\n",
    "# ix_start = np.where(shift_vec == shift_vec[ix_peak])[0][0]\n",
    "# best_lag = lagvec[ix_peak]\n",
    "# x2 = h_li2[best_lag:best_lag + len(x1)]\n",
    "ix_start = int(search_width / dx) - lagvec[ix_peak]\n",
    "x2 = h_li2[ix_start:ix_start + len(x1)]\n",
    "plt.figure()\n",
    "plt.plot(x2,'r')\n",
    "plt.plot(x1,'k')\n",
    "print(len(x1), len(x2))\n",
    "print(len(x1 * x2))\n",
    "print(np.sum(x1*x2), corr[ix_peak])\n",
    "print(np.sqrt(np.sum(x1**2) * np.sum(x2**2)), norm_vec[ix_peak])\n",
    "print(np.sum(x1*x2) / (np.sqrt(np.sum(x1**2) * np.sum(x2**2))), corr_normed[ix_peak])"
   ]
  },
  {
   "cell_type": "code",
   "execution_count": 125,
   "metadata": {},
   "outputs": [
    {
     "name": "stdout",
     "output_type": "stream",
     "text": [
      "0.567246272219237\n",
      "these should be the same\n",
      "1.2808457761108316\n"
     ]
    }
   ],
   "source": [
    "\n",
    "print('0.567246272219237')\n",
    "print('these should be the same')\n",
    "print(corr_normed[ix_peak])\n",
    "\n",
    "\n",
    "print(corr[ix_peak])"
   ]
  },
  {
   "cell_type": "code",
   "execution_count": 97,
   "metadata": {},
   "outputs": [
    {
     "data": {
      "application/vnd.jupyter.widget-view+json": {
       "model_id": "012bbd4ad1d64551894e19db63b35a52",
       "version_major": 2,
       "version_minor": 0
      },
      "text/plain": [
       "Canvas(toolbar=Toolbar(toolitems=[('Home', 'Reset original view', 'home', 'home'), ('Back', 'Back to previous …"
      ]
     },
     "metadata": {},
     "output_type": "display_data"
    },
    {
     "data": {
      "application/vnd.jupyter.widget-view+json": {
       "model_id": "05ff0b2d87254285b86ab3cfa5b81c22",
       "version_major": 2,
       "version_minor": 0
      },
      "text/plain": [
       "Canvas(toolbar=Toolbar(toolitems=[('Home', 'Reset original view', 'home', 'home'), ('Back', 'Back to previous …"
      ]
     },
     "metadata": {},
     "output_type": "display_data"
    },
    {
     "data": {
      "image/png": "[encoded data removed]",
      "text/plain": [
       "<Figure size 432x288 with 1 Axes>"
      ]
     },
     "metadata": {
      "needs_background": "light"
     },
     "output_type": "display_data"
    },
    {
     "data": {
      "image/png": "[encoded data removed]",
      "text/plain": [
       "<Figure size 432x288 with 1 Axes>"
      ]
     },
     "metadata": {
      "needs_background": "light"
     },
     "output_type": "display_data"
    }
   ],
   "source": [
    "plt.figure()\n",
    "for beam in beams:\n",
    "    plt.plot(h_li_diff[cycles[0]][beam])\n",
    "plt.figure()\n",
    "for beam in beams:\n",
    "    plt.plot(h_li[cycles[0]][beam])"
   ]
  },
  {
   "cell_type": "code",
   "execution_count": 13,
   "metadata": {},
   "outputs": [],
   "source": [
    "import matplotlib.pyplot as plt"
   ]
  },
  {
   "cell_type": "code",
   "execution_count": null,
   "metadata": {},
   "outputs": [],
   "source": []
  },
  {
   "cell_type": "code",
   "execution_count": null,
   "metadata": {},
   "outputs": [],
   "source": []
  },
  {
   "cell_type": "code",
   "execution_count": 11,
   "metadata": {},
   "outputs": [
    {
     "data": {
      "application/vnd.jupyter.widget-view+json": {
       "model_id": "7b43ccf82dc74bc6865935565ef75ebd",
       "version_major": 2,
       "version_minor": 0
      },
      "text/plain": [
       "Canvas(toolbar=Toolbar(toolitems=[('Home', 'Reset original view', 'home', 'home'), ('Back', 'Back to previous …"
      ]
     },
     "metadata": {},
     "output_type": "display_data"
    },
    {
     "data": {
      "text/plain": [
       "[<matplotlib.lines.Line2D at 0x7fc2ec50e6d0>]"
      ]
     },
     "execution_count": 11,
     "metadata": {},
     "output_type": "execute_result"
    }
   ],
   "source": [
    "\n",
    "plt.figure()\n",
    "plt.plot(corr2)"
   ]
  },
  {
   "cell_type": "code",
   "execution_count": null,
   "metadata": {},
   "outputs": [],
   "source": []
  }
 ],
 "metadata": {
  "kernelspec": {
   "display_name": "Python 3",
   "language": "python",
   "name": "python3"
  },
  "language_info": {
   "codemirror_mode": {
    "name": "ipython",
    "version": 3
   },
   "file_extension": ".py",
   "mimetype": "text/x-python",
   "name": "python",
   "nbconvert_exporter": "python",
   "pygments_lexer": "ipython3",
   "version": "3.7.6"
  }
 },
 "nbformat": 4,
 "nbformat_minor": 4
}
