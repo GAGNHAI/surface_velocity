{
 "cells": [
  {
   "cell_type": "code",
   "execution_count": null,
   "metadata": {},
   "outputs": [],
   "source": [
    "import os,re,h5py\n",
    "import requests\n",
    "import zipfile"
   ]
  },
  {
   "cell_type": "code",
   "execution_count": null,
   "metadata": {},
   "outputs": [],
   "source": [
    "import numpy as np\n",
    "import pandas as pd\n",
    "import geopandas as gpd\n",
    "import pyproj\n",
    "import scipy, sys, os, pyproj, glob\n",
    "import matplotlib.pyplot as plt\n",
    "from shapely.geometry import Point, Polygon\n",
    "import pointCollection as pc\n",
    "import math\n",
    "\n",
    "# Import some of the scripts that we have written\n",
    "import sys\n",
    "sys.path.append(\"/home/jovyan/surface_velocity/scripts\")\n",
    "from loading_scripts import atl06_to_dict\n",
    "\n",
    "\n",
    "# run matplotlib in 'widget' mode\n",
    "%matplotlib widget\n",
    "%load_ext autoreload\n",
    "%autoreload 2"
   ]
  },
  {
   "cell_type": "code",
   "execution_count": null,
   "metadata": {},
   "outputs": [],
   "source": [
    "#From Ben Smith's code loading in .tif file, running into issues likely with directories\n",
    "data_root='/srv/shared/surface_velocity/FIS_Velocity/'\n",
    "#spatial_extent = np.array([-102, -76, -98, -74.5])\n",
    "spatial_extent = np.array([-65, -86, -55, -81])\n",
    "lat=spatial_extent[[1, 3, 3, 1, 1]]\n",
    "lon=spatial_extent[[2, 2, 0, 0, 2]]\n",
    "print(lat)\n",
    "print(lon)\n",
    "# project the coordinates to Antarctic polar stereographic\n",
    "xy=np.array(pyproj.Proj(3031)(lon, lat))\n",
    "# get the bounds of the projected coordinates \n",
    "XR=[np.nanmin(xy[0,:]), np.nanmax(xy[0,:])]\n",
    "YR=[np.nanmin(xy[1,:]), np.nanmax(xy[1,:])]\n",
    "#Originally tried to load data from a local directory, should change to shared directory\n",
    "Measures_vx=pc.grid.data().from_geotif(os.path.join(data_root,'Measures2_FIS_Vx.tif'), bounds=[XR, YR])\n",
    "Measures_vy=pc.grid.data().from_geotif(os.path.join(data_root,'Measures2_FIS_Vy.tif'), bounds=[XR, YR])"
   ]
  },
  {
   "cell_type": "code",
   "execution_count": null,
   "metadata": {},
   "outputs": [],
   "source": [
    "\n",
    "def add_surface_velocity_to_is2_dict(is2_dict, ):\n",
    "    \n",
    "    vx = Measures_vx.interp(is2_dict['x'],is2_dict['y'])\n",
    "    vy = Measures_vy.interp(is2_dict['x'],is2_dict['y'])\n",
    "\n",
    "    #Solve for angle to rotate Vy to be along track and Vx to be across track\n",
    "    import math\n",
    "    xL=abs((is2_dict['x'][0])-(is2_dict['x'][1]))\n",
    "    yL=abs((is2_dict['y'][0])-(is2_dict['y'][1]))\n",
    "\n",
    "    #decides if is descending or ascending path\n",
    "    if is2_dict['x'][0]-is2_dict['x'][1] < 0:\n",
    "\n",
    "        theta_rad=math.atan(xL/yL)\n",
    "        #theta_deg=theta_rad*180/math.pi\n",
    "        is2_dict['v_along']=vy/math.cos(theta_rad)\n",
    "        is2_dict['v_across']=vx/math.cos(theta_rad)\n",
    "\n",
    "    else:\n",
    "    \n",
    "        theta_rad=math.atan(xL/yL)\n",
    "        #theta_deg=theta_rad*180/math.pi\n",
    "        is2_dict['v_along']=vy/math.sin(theta_rad)\n",
    "        is2_dict['v_across']=vx/math.sin(theta_rad)\n",
    "        \n",
    "    return is2_dict "
   ]
  },
  {
   "cell_type": "code",
   "execution_count": null,
   "metadata": {},
   "outputs": [],
   "source": [
    "data_root='/srv/shared/surface_velocity/'\n",
    "field_dict={None:['delta_time','latitude','longitude','h_li', 'atl06_quality_summary'],\\\n",
    "                    'ground_track':['x_atc','y_atc'],\\\n",
    "                    'fit_statistics':['dh_fit_dx', 'dh_fit_dy']}\n",
    "\n",
    "filename = glob.glob(os.path.join(data_root, 'FIS_ATL06', f'*ATL06_*_*_003*.h5'))\n",
    "\n",
    "\n",
    "beams = ['/gt1r','/gt1l','/gt2r','/gt2l','/gt3r','/gt3l']\n",
    "D=[]\n",
    "for file in filename:\n",
    "    B = ATL06_to_dict(file, dataset_dict=field_dict)\n",
    "        \n",
    "    add_surface_velocity_to_is2_dict(B)\n",
    "    D.append(B)\n",
    "        "
   ]
  }
 ],
 "metadata": {
  "kernelspec": {
   "display_name": "Python [conda env:icesat2020] *",
   "language": "python",
   "name": "conda-env-icesat2020-py"
  },
  "language_info": {
   "codemirror_mode": {
    "name": "ipython",
    "version": 3
   },
   "file_extension": ".py",
   "mimetype": "text/x-python",
   "name": "python",
   "nbconvert_exporter": "python",
   "pygments_lexer": "ipython3",
   "version": "3.7.6"
  }
 },
 "nbformat": 4,
 "nbformat_minor": 4
}
