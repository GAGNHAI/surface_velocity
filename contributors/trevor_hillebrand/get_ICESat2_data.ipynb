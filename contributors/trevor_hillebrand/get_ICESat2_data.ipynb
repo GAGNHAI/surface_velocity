{
 "cells": [
  {
   "cell_type": "code",
   "execution_count": 27,
   "metadata": {},
   "outputs": [],
   "source": [
    "import numpy as np\n",
    "import h5py\n",
    "from icepyx import icesat2data as ipd\n",
    "import os\n",
    "import shutil\n",
    "from pprint import pprint\n",
    "%matplotlib inline"
   ]
  },
  {
   "cell_type": "code",
   "execution_count": 42,
   "metadata": {},
   "outputs": [],
   "source": [
    "# Crary Ice Rise\n",
    "short_name = 'ATL06'\n",
    "spatial_extent = [-177.3, -83.7, -167.7, -82.4]\n",
    "date_range = ['2019-06-01','2019-06-15']\n",
    "\n"
   ]
  },
  {
   "cell_type": "code",
   "execution_count": 46,
   "metadata": {},
   "outputs": [],
   "source": [
    "CIR = ipd.Icesat2Data(short_name, spatial_extent, date_range)"
   ]
  },
  {
   "cell_type": "code",
   "execution_count": 47,
   "metadata": {},
   "outputs": [
    {
     "data": {
      "text/plain": [
       "{'Number of available granules': 20,\n",
       " 'Average size of granules (MB)': 88.436106300365,\n",
       " 'Total size of all granules (MB)': 1768.7221260073}"
      ]
     },
     "execution_count": 47,
     "metadata": {},
     "output_type": "execute_result"
    }
   ],
   "source": [
    "CIR.avail_granules()"
   ]
  },
  {
   "cell_type": "code",
   "execution_count": 48,
   "metadata": {},
   "outputs": [
    {
     "name": "stdin",
     "output_type": "stream",
     "text": [
      "Earthdata Login password:  ···········\n"
     ]
    }
   ],
   "source": [
    "# Earthdata login\n",
    "\n",
    "earthdata_uid = 'trhille'\n",
    "email = 'trhille@lanl.gov'\n",
    "CIR.earthdata_login(earthdata_uid, email)"
   ]
  },
  {
   "cell_type": "code",
   "execution_count": 50,
   "metadata": {},
   "outputs": [
    {
     "name": "stdout",
     "output_type": "stream",
     "text": [
      "Total number of data order requests is  2  for  20  granules.\n",
      "Data request  1  of  2  is submitting to NSIDC\n",
      "order ID:  5000000699970\n",
      "Initial status of your order request at NSIDC is:  processing\n",
      "Your order status is still  processing  at NSIDC. Please continue waiting... this may take a few moments.\n",
      "Your order is:  complete_with_errors\n",
      "NSIDC provided these error messages:\n",
      "['178105363:NoMatchingData - No data found that matched subset constraints. '\n",
      " 'Exit code 3.',\n",
      " '178107403:NoMatchingData - No data found that matched subset constraints. '\n",
      " 'Exit code 3.',\n",
      " '178098991:NoMatchingData - No data found that matched subset constraints. '\n",
      " 'Exit code 3.',\n",
      " '178098953:NoMatchingData - No data found that matched subset constraints. '\n",
      " 'Exit code 3.',\n",
      " 'PT9.636S',\n",
      " 'ICESAT2']\n",
      "Your order is: complete_with_errors\n",
      "Data request  2  of  2  is submitting to NSIDC\n",
      "order ID:  5000000699971\n",
      "Initial status of your order request at NSIDC is:  processing\n",
      "Your order status is still  processing  at NSIDC. Please continue waiting... this may take a few moments.\n",
      "Your order is:  complete_with_errors\n",
      "NSIDC provided these error messages:\n",
      "['178102781:NoMatchingData - No data found that matched subset constraints. '\n",
      " 'Exit code 3.',\n",
      " '178108200:NoMatchingData - No data found that matched subset constraints. '\n",
      " 'Exit code 3.',\n",
      " 'PT10.173S',\n",
      " 'ICESAT2']\n",
      "Your order is: complete_with_errors\n"
     ]
    }
   ],
   "source": [
    "# use default variables for download, put in order\n",
    "CIR.order_vars.append(defaults=True)\n",
    "CIR.order_granules()"
   ]
  },
  {
   "cell_type": "code",
   "execution_count": 51,
   "metadata": {},
   "outputs": [
    {
     "name": "stdout",
     "output_type": "stream",
     "text": [
      "Beginning download of zipped output...\n",
      "Data request 5000000699970 of  2  order(s) is downloaded.\n",
      "Beginning download of zipped output...\n",
      "Data request 5000000699971 of  2  order(s) is downloaded.\n",
      "Download complete\n"
     ]
    }
   ],
   "source": [
    "path = './data'\n",
    "CIR.download_granules(path)\n"
   ]
  },
  {
   "cell_type": "code",
   "execution_count": null,
   "metadata": {},
   "outputs": [],
   "source": []
  }
 ],
 "metadata": {
  "kernelspec": {
   "display_name": "Python [conda env:notebook] *",
   "language": "python",
   "name": "conda-env-notebook-py"
  },
  "language_info": {
   "codemirror_mode": {
    "name": "ipython",
    "version": 3
   },
   "file_extension": ".py",
   "mimetype": "text/x-python",
   "name": "python",
   "nbconvert_exporter": "python",
   "pygments_lexer": "ipython3",
   "version": "3.7.6"
  }
 },
 "nbformat": 4,
 "nbformat_minor": 4
}
